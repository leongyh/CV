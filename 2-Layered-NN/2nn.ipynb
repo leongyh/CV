{
 "metadata": {
  "name": "",
  "signature": "sha256:51f47a83186585c7a321bf7e9f8cc0b693c6fee72ad43cdb61348f40becf204c"
 },
 "nbformat": 3,
 "nbformat_minor": 0,
 "worksheets": [
  {
   "cells": [
    {
     "cell_type": "heading",
     "level": 1,
     "metadata": {},
     "source": [
      "Data Pre-processing"
     ]
    },
    {
     "cell_type": "code",
     "collapsed": false,
     "input": [
      "from scipy import io\n",
      "import numpy as np\n",
      "from sklearn.preprocessing import normalize\n",
      "import matplotlib.pyplot as plt\n",
      "import time\n",
      "\n",
      "RAW_DATA_DIGITS_TRAIN = io.loadmat('digit-dataset/train.mat')\n",
      "TRAIN_DATA_DIGITS_L2 = normalize(np.reshape(RAW_DATA_DIGITS_TRAIN['train_images'], (784, 60000)).transpose().astype(float), norm='l2')\n",
      "TRAIN_DATA_DIGITS_STD = np.reshape(RAW_DATA_DIGITS_TRAIN['train_images'], (784, 60000)).transpose().astype(float)\n",
      "TRAIN_DATA_DIGITS_STD -= np.mean(TRAIN_DATA_DIGITS_STD, axis=0)\n",
      "TRAIN_DATA_DIGITS_STD /= np.std(TRAIN_DATA_DIGITS_STD, axis=0)\n",
      "TRAIN_DATA_DIGITS_STD = np.nan_to_num(TRAIN_DATA_DIGITS_STD)\n",
      "\n",
      "TRAIN_LABEL_DIGITS = RAW_DATA_DIGITS_TRAIN['train_labels']\n",
      "\n",
      "RAW_DATA_DIGITS_TEST = io.loadmat('digit-dataset/test.mat')\n",
      "TEST_DATA_DIGITS_L2 = normalize(np.reshape(RAW_DATA_DIGITS_TEST['test_images'], (784, 10000)).transpose().astype(float), norm='l2')\n",
      "TEST_DATA_DIGITS_STD = np.reshape(RAW_DATA_DIGITS_TEST['test_images'], (784, 10000)).transpose().astype(float)\n",
      "TEST_DATA_DIGITS_STD -= np.mean(TEST_DATA_DIGITS_STD, axis=0)\n",
      "TEST_DATA_DIGITS_STD /= np.std(TEST_DATA_DIGITS_STD, axis=0)\n",
      "TEST_DATA_DIGITS_STD = np.nan_to_num(TEST_DATA_DIGITS_STD)"
     ],
     "language": "python",
     "metadata": {},
     "outputs": [
      {
       "output_type": "stream",
       "stream": "stderr",
       "text": [
        "-c:11: RuntimeWarning: invalid value encountered in divide\n",
        "-c:20: RuntimeWarning: invalid value encountered in divide\n"
       ]
      }
     ],
     "prompt_number": 1
    },
    {
     "cell_type": "code",
     "collapsed": false,
     "input": [
      "TRAIN_DATA_DIGITS_L2 = np.append(TRAIN_DATA_DIGITS_L2, np.ones((TRAIN_DATA_DIGITS_L2.shape[0], 1)), axis=1)\n",
      "TEST_DATA_DIGITS_L2 = np.append(TEST_DATA_DIGITS_L2, np.ones((TEST_DATA_DIGITS_L2.shape[0], 1)), axis=1)\n",
      "\n",
      "TRAIN_DATA_DIGITS_STD = np.append(TRAIN_DATA_DIGITS_STD, np.ones((TRAIN_DATA_DIGITS_STD.shape[0], 1)), axis=1)\n",
      "TEST_DATA_DIGITS_STD = np.append(TEST_DATA_DIGITS_STD, np.ones((TEST_DATA_DIGITS_STD.shape[0], 1)), axis=1)\n",
      "\n",
      "temp = np.zeros((TRAIN_LABEL_DIGITS.shape[0], 10))\n",
      "count = 0\n",
      "\n",
      "for y in TRAIN_LABEL_DIGITS:\n",
      "    temp[count][y[0]] = 1\n",
      "    count += 1\n",
      "\n",
      "TRAIN_LABEL_DIGITS = temp"
     ],
     "language": "python",
     "metadata": {},
     "outputs": [],
     "prompt_number": 2
    },
    {
     "cell_type": "code",
     "collapsed": false,
     "input": [
      "RANDOM_IDX = np.random.choice(60000, 55000, replace=False)\n",
      "\n",
      "TRAIN_DATA_SET_L2 = TRAIN_DATA_DIGITS_L2[RANDOM_IDX]\n",
      "TRAIN_DATA_SET_STD = TRAIN_DATA_DIGITS_STD[RANDOM_IDX]\n",
      "TRAIN_LABEL_SET = TRAIN_LABEL_DIGITS[RANDOM_IDX]\n",
      "\n",
      "TEST_DATA_SET_L2 = np.delete(TRAIN_DATA_DIGITS_L2, RANDOM_IDX, axis=0)\n",
      "TEST_DATA_SET_STD = np.delete(TRAIN_DATA_DIGITS_STD, RANDOM_IDX, axis=0)\n",
      "TEST_LABEL_SET = np.delete(TRAIN_LABEL_DIGITS, RANDOM_IDX, axis=0)"
     ],
     "language": "python",
     "metadata": {},
     "outputs": [],
     "prompt_number": 3
    },
    {
     "cell_type": "heading",
     "level": 1,
     "metadata": {},
     "source": [
      "Neural Network"
     ]
    },
    {
     "cell_type": "code",
     "collapsed": false,
     "input": [
      "class TwoNN(object):\n",
      "    def __init__(self, in_size, hidden_size, out_size, cost_function, cost_function_grad):\n",
      "        self.n_in = in_size\n",
      "        self.n_hid = hidden_size\n",
      "        self.n_out = out_size\n",
      "        \n",
      "        self.W_1 = np.random.uniform(low=-0.1, high=0.1, size=(self.n_in, self.n_hid))\n",
      "        self.W_2 = np.random.uniform(low=-0.1, high=0.1, size=(self.n_hid, self.n_out))\n",
      "        self.W_1 = np.append(self.W_1, np.zeros((1, self.n_hid)), axis=0)\n",
      "        self.W_2 = np.append(self.W_2, np.zeros((1, self.n_out)), axis=0)\n",
      "        \n",
      "        self.cost_function = cost_function\n",
      "        self.cost_function_grad = cost_function_grad\n",
      "    \n",
      "    \n",
      "    def train(self, images, labels, learning_rate, damping=(lambda x, y: x), threshold=0.00005):\n",
      "        iters = 0\n",
      "        error = 0.0\n",
      "        lowest_error = 999.999\n",
      "        rate = learning_rate\n",
      "\n",
      "        while True:\n",
      "            k = np.random.choice(images.shape[0], 200, replace=False)\n",
      "\n",
      "            sample_data = images[k]\n",
      "            sample_label = labels[k]\n",
      "\n",
      "            y_pred = self.forward(sample_data, self.W_1, self.W_2)\n",
      "            dEdW_1, dEdW_2 = self.cost_function_grad(sample_data, sample_label, y_pred, self.z_2, self.a_2, self.z_3, self.W_1, self.W_2)\n",
      "            \n",
      "            self.W_1 -= rate * dEdW_1\n",
      "            self.W_2 -= rate * dEdW_2\n",
      "\n",
      "            iters += 1\n",
      "            error += self.cost_function(sample_label, y_pred)\n",
      "\n",
      "            if iters % 250 == 0:\n",
      "                error /= 250\n",
      "                \n",
      "                if np.fabs(lowest_error - error) < threshold:\n",
      "                    print \"Training complete at #%d iterations. Cost Function Error: %f\" % (iters, error)\n",
      "                    \n",
      "                    return\n",
      "            \n",
      "                if error < lowest_error:\n",
      "                    lowest_error = error\n",
      "                    \n",
      "                if iters % 1000 == 0:\n",
      "                    print \"Iteration: #%d, Cost Function Error: %f, Lowest CFE: %f\" % (iters, error, lowest_error)\n",
      "\n",
      "                error = 0.0\n",
      "                \n",
      "            rate = damping(rate, iters)\n",
      "    \n",
      "    \n",
      "    def analytics(self, train_images, train_labels, test_images, test_labels, learning_rate, damping=(lambda x, y: x), max_iters=50000):\n",
      "        iterations = []\n",
      "        error_rates = []\n",
      "        \n",
      "        iters = 0\n",
      "        rate = learning_rate\n",
      "        \n",
      "        iterations.append(iters)\n",
      "        preds = self.predict(test_images)\n",
      "        error_rates.append(self.errorCalc(test_labels, preds))\n",
      "        \n",
      "        while iters <= max_iters:\n",
      "            k = np.random.choice(train_images.shape[0], 200, replace=False)\n",
      "\n",
      "            sample_data = train_images[k]\n",
      "            sample_label = train_labels[k]\n",
      "\n",
      "            y_pred = self.forward(sample_data, self.W_1, self.W_2)\n",
      "            dEdW_1, dEdW_2 = self.cost_function_grad(sample_data, sample_label, y_pred, self.z_2, self.a_2, self.z_3, self.W_1, self.W_2)\n",
      "            \n",
      "            self.W_1 -= rate * dEdW_1\n",
      "            self.W_2 -= rate * dEdW_2\n",
      "\n",
      "            iters += 1\n",
      "\n",
      "            if iters % 250 == 0:\n",
      "                iterations.append(iters)\n",
      "                preds = self.predict(test_images)\n",
      "                error_rates.append(self.errorCalc(test_labels, preds))\n",
      "                \n",
      "            rate = damping(rate, iters)\n",
      "                    \n",
      "        plt.plot(iterations, error_rates)\n",
      "        plt.ylabel(\"Error\")\n",
      "        plt.xlabel(\"Iterations\")\n",
      "        plt.show()\n",
      "        \n",
      "        \n",
      "    def predict(self, images):\n",
      "        labels = []\n",
      "\n",
      "        for x in images:\n",
      "            tanh = np.tanh(np.dot(x, self.W_1)) # 200x785 dot 785x1 -> 200x1\n",
      "            tanh = np.append(tanh, 1)# -> 201x1\n",
      "            result = sigmoid(np.dot(tanh, self.W_2))\n",
      "            \n",
      "            labels.append(np.argmax(result))\n",
      "\n",
      "        return labels\n",
      "    \n",
      "    \n",
      "    def errorCalc(self, y, pred):\n",
      "        hits = 0.0\n",
      "        count = 0\n",
      "\n",
      "        for label in y:\n",
      "            if np.argmax(label) == pred[count]:\n",
      "                hits += 1.0\n",
      "\n",
      "            count += 1\n",
      "\n",
      "        return 1.0 - hits/count\n",
      "    \n",
      "    \n",
      "    def forward(self, x, W_1, W_2):\n",
      "        self.z_2 = np.dot(x, W_1) #200x785 dot 785x200 -> 200x200\n",
      "        self.a_2 = np.tanh(self.z_2) #200x200\n",
      "        self.a_2 = np.append(self.a_2, np.ones((self.a_2.shape[0], 1)), axis=1) #200x200 -> 200x201\n",
      "        self.z_3 = np.dot(self.a_2, self.W_2) #200x201 dot 201x10 -> 200x10\n",
      "        \n",
      "        return sigmoid(self.z_3)\n",
      "\n",
      "    \n",
      "def sigmoid(z):\n",
      "    return 1 / (1 + np.exp(-z))\n",
      "\n",
      "\n",
      "def sigmoidPrime(z):\n",
      "    return np.exp(-z) / ((1 + np.exp(-z)) ** 2)        \n",
      "    \n",
      "\n",
      "def calculateMSE(y, h):    \n",
      "    return 0.5 * np.sum(np.square(y - h)) / y.shape[0]\n",
      "\n",
      "\n",
      "def calculateMSEGradients(x, y, y_pred, z_2, a_2, z_3, W_1, W_2):\n",
      "    e = y - y_pred #200x10 - 200x10 -> 200x10\n",
      "    d_3 = -1 * np.multiply(e, sigmoidPrime(z_3)) #200x10 * 200x10 -> 200x10\n",
      "    dEdW_2 = np.dot(a_2.T, d_3) #201x200 dot 200x10 -> 201x10\n",
      "    \n",
      "    d_3W_2 = np.delete(np.dot(d_3, W_2.T), W_2.shape[0] - 1, axis=1) #200x10 dot 10x201 -> 200x201 -> 200x200\n",
      "    z_2_prime = 1 - np.square(np.tanh(z_2)) #200x200\n",
      "    d_2 = np.multiply(d_3W_2, z_2_prime) #200x200 * 200x200 -> 200x200\n",
      "    dEdW_1 = np.dot(x.T, d_2) #785x200 outer 200x200 -> 785x200\n",
      "    \n",
      "    return (dEdW_1, dEdW_2)\n",
      "\n",
      "\n",
      "def calculateXEE(y, h):\n",
      "    i = h\n",
      "    j = 1 - h\n",
      "    i[i < 0.000001] = 0.000001\n",
      "    j[j < 0.000001] = 0.000001\n",
      "    \n",
      "    a = np.multiply(y, np.log(i))\n",
      "    b = np.multiply(1 - y, np.log(j))\n",
      "    c = np.add(a, b)\n",
      "    \n",
      "    return -1 * np.sum(c) / y.shape[0]\n",
      "\n",
      "\n",
      "def calculateXEEGradients(x, y, y_pred, z_2, a_2, z_3, W_1, W_2):\n",
      "    e = y_pred - y #200x10 - 200x10 -> 200x10\n",
      "    dEdW_2 = np.dot(a_2.T, e) #201x200 outer 200x10 -> 201x10\n",
      "    \n",
      "    eW_2 = np.delete(np.dot(e, W_2.T), W_2.shape[0] - 1, axis=1) #200x10 dot 10x201 -> 200x201 -> 200x200\n",
      "    z_2_prime = 1 - np.square(np.tanh(z_2)) #200x200\n",
      "    d_2 = np.multiply(eW_2, z_2_prime) #200x200 * 200x200 -> 200x200\n",
      "    dEdW_1 = np.dot(x.T, d_2) #785x200 outer 200x200 = 785x200\n",
      "    \n",
      "    return (dEdW_1, dEdW_2)\n",
      "\n",
      "\n",
      "def accuracy(y, pred):\n",
      "    hits = 0.0\n",
      "    count = 0\n",
      "    \n",
      "    for label in y:\n",
      "        if np.argmax(label) == pred[count]:\n",
      "            hits += 1.0\n",
      "            \n",
      "        count += 1\n",
      "        \n",
      "    return hits/count"
     ],
     "language": "python",
     "metadata": {},
     "outputs": [],
     "prompt_number": 33
    },
    {
     "cell_type": "heading",
     "level": 2,
     "metadata": {},
     "source": [
      "Mean Squared Error as Cost Function"
     ]
    },
    {
     "cell_type": "code",
     "collapsed": false,
     "input": [
      "NN_MSE = TwoNN(784, 200, 10, calculateMSE, calculateMSEGradients)"
     ],
     "language": "python",
     "metadata": {},
     "outputs": [],
     "prompt_number": 20
    },
    {
     "cell_type": "code",
     "collapsed": false,
     "input": [
      "start = time.clock()\n",
      "\n",
      "NN_MSE.train(TRAIN_DATA_SET_STD, TRAIN_LABEL_SET, 0.1, threshold=0.00001)\n",
      "\n",
      "end = time.clock()\n",
      "\n",
      "print end - start"
     ],
     "language": "python",
     "metadata": {},
     "outputs": [
      {
       "output_type": "stream",
       "stream": "stdout",
       "text": [
        "Training complete at #750 iterations. Cost Function Error: 0.003666\n",
        "20.251394\n"
       ]
      }
     ],
     "prompt_number": 24
    },
    {
     "cell_type": "code",
     "collapsed": false,
     "input": [
      "preds = NN_MSE.predict(TEST_DATA_SET_STD)\n",
      "accuracy(TEST_LABEL_SET, preds)"
     ],
     "language": "python",
     "metadata": {},
     "outputs": [
      {
       "metadata": {},
       "output_type": "pyout",
       "prompt_number": 25,
       "text": [
        "0.9456"
       ]
      }
     ],
     "prompt_number": 25
    },
    {
     "cell_type": "heading",
     "level": 2,
     "metadata": {},
     "source": [
      "Cross Entropy Error as Cost Function"
     ]
    },
    {
     "cell_type": "code",
     "collapsed": false,
     "input": [
      "NN_XEE = TwoNN(784, 200, 10, calculateXEE, calculateXEEGradients)"
     ],
     "language": "python",
     "metadata": {},
     "outputs": [],
     "prompt_number": 11
    },
    {
     "cell_type": "code",
     "collapsed": false,
     "input": [
      "start = time.clock()\n",
      "\n",
      "NN_XEE.train(TRAIN_DATA_SET_STD, TRAIN_LABEL_SET, 0.1, threshold=0.0005)\n",
      "\n",
      "end = time.clock()\n",
      "\n",
      "print end - start"
     ],
     "language": "python",
     "metadata": {},
     "outputs": [
      {
       "output_type": "stream",
       "stream": "stdout",
       "text": [
        "Iteration: #1000, Cost Function Error: 2.817596, Lowest CFE: 2.817596\n",
        "Iteration: #2000, Cost Function Error: 2.713350, Lowest CFE: 2.713350"
       ]
      },
      {
       "output_type": "stream",
       "stream": "stdout",
       "text": [
        "\n",
        "Iteration: #3000, Cost Function Error: 2.563495, Lowest CFE: 2.563495"
       ]
      },
      {
       "output_type": "stream",
       "stream": "stdout",
       "text": [
        "\n",
        "Iteration: #4000, Cost Function Error: 2.509611, Lowest CFE: 2.489253"
       ]
      },
      {
       "output_type": "stream",
       "stream": "stdout",
       "text": [
        "\n",
        "Iteration: #5000, Cost Function Error: 2.388997, Lowest CFE: 2.386493"
       ]
      },
      {
       "output_type": "stream",
       "stream": "stdout",
       "text": [
        "\n",
        "Iteration: #6000, Cost Function Error: 2.344190, Lowest CFE: 2.321650"
       ]
      },
      {
       "output_type": "stream",
       "stream": "stdout",
       "text": [
        "\n",
        "Iteration: #7000, Cost Function Error: 2.271082, Lowest CFE: 2.233976"
       ]
      },
      {
       "output_type": "stream",
       "stream": "stdout",
       "text": [
        "\n",
        "Iteration: #8000, Cost Function Error: 2.203001, Lowest CFE: 2.159611"
       ]
      },
      {
       "output_type": "stream",
       "stream": "stdout",
       "text": [
        "\n",
        "Iteration: #9000, Cost Function Error: 2.212216, Lowest CFE: 2.159611"
       ]
      },
      {
       "output_type": "stream",
       "stream": "stdout",
       "text": [
        "\n",
        "Iteration: #10000, Cost Function Error: 2.024774, Lowest CFE: 2.024774"
       ]
      },
      {
       "output_type": "stream",
       "stream": "stdout",
       "text": [
        "\n",
        "Iteration: #11000, Cost Function Error: 2.028754, Lowest CFE: 2.017697"
       ]
      },
      {
       "output_type": "stream",
       "stream": "stdout",
       "text": [
        "\n",
        "Iteration: #12000, Cost Function Error: 2.030732, Lowest CFE: 2.013561"
       ]
      },
      {
       "output_type": "stream",
       "stream": "stdout",
       "text": [
        "\n",
        "Iteration: #13000, Cost Function Error: 2.011326, Lowest CFE: 1.929945"
       ]
      },
      {
       "output_type": "stream",
       "stream": "stdout",
       "text": [
        "\n",
        "Iteration: #14000, Cost Function Error: 1.915746, Lowest CFE: 1.915746"
       ]
      },
      {
       "output_type": "stream",
       "stream": "stdout",
       "text": [
        "\n",
        "Iteration: #15000, Cost Function Error: 1.894569, Lowest CFE: 1.894569"
       ]
      },
      {
       "output_type": "stream",
       "stream": "stdout",
       "text": [
        "\n",
        "Iteration: #16000, Cost Function Error: 1.950769, Lowest CFE: 1.861482"
       ]
      },
      {
       "output_type": "stream",
       "stream": "stdout",
       "text": [
        "\n",
        "Iteration: #17000, Cost Function Error: 1.882954, Lowest CFE: 1.861482"
       ]
      },
      {
       "output_type": "stream",
       "stream": "stdout",
       "text": [
        "\n",
        "Iteration: #18000, Cost Function Error: 1.820427, Lowest CFE: 1.804753"
       ]
      },
      {
       "output_type": "stream",
       "stream": "stdout",
       "text": [
        "\n",
        "Iteration: #19000, Cost Function Error: 1.846171, Lowest CFE: 1.784198"
       ]
      },
      {
       "output_type": "stream",
       "stream": "stdout",
       "text": [
        "\n",
        "Iteration: #20000, Cost Function Error: 1.779943, Lowest CFE: 1.760317"
       ]
      },
      {
       "output_type": "stream",
       "stream": "stdout",
       "text": [
        "\n",
        "Iteration: #21000, Cost Function Error: 1.724505, Lowest CFE: 1.724505"
       ]
      },
      {
       "output_type": "stream",
       "stream": "stdout",
       "text": [
        "\n",
        "Iteration: #22000, Cost Function Error: 1.620685, Lowest CFE: 1.620685"
       ]
      },
      {
       "output_type": "stream",
       "stream": "stdout",
       "text": [
        "\n",
        "Iteration: #23000, Cost Function Error: 1.647615, Lowest CFE: 1.620685"
       ]
      },
      {
       "output_type": "stream",
       "stream": "stdout",
       "text": [
        "\n",
        "Iteration: #24000, Cost Function Error: 1.586481, Lowest CFE: 1.586481"
       ]
      },
      {
       "output_type": "stream",
       "stream": "stdout",
       "text": [
        "\n",
        "Iteration: #25000, Cost Function Error: 1.588988, Lowest CFE: 1.586481"
       ]
      },
      {
       "output_type": "stream",
       "stream": "stdout",
       "text": [
        "\n",
        "Iteration: #26000, Cost Function Error: 1.631341, Lowest CFE: 1.586481"
       ]
      },
      {
       "output_type": "stream",
       "stream": "stdout",
       "text": [
        "\n",
        "Iteration: #27000, Cost Function Error: 1.576674, Lowest CFE: 1.576674"
       ]
      },
      {
       "output_type": "stream",
       "stream": "stdout",
       "text": [
        "\n",
        "Iteration: #28000, Cost Function Error: 1.580531, Lowest CFE: 1.530101"
       ]
      },
      {
       "output_type": "stream",
       "stream": "stdout",
       "text": [
        "\n",
        "Iteration: #29000, Cost Function Error: 1.558110, Lowest CFE: 1.530101"
       ]
      },
      {
       "output_type": "stream",
       "stream": "stdout",
       "text": [
        "\n",
        "Iteration: #30000, Cost Function Error: 1.510744, Lowest CFE: 1.510744"
       ]
      },
      {
       "output_type": "stream",
       "stream": "stdout",
       "text": [
        "\n",
        "Iteration: #31000, Cost Function Error: 1.482512, Lowest CFE: 1.482512"
       ]
      },
      {
       "output_type": "stream",
       "stream": "stdout",
       "text": [
        "\n",
        "Iteration: #32000, Cost Function Error: 1.538632, Lowest CFE: 1.482512"
       ]
      },
      {
       "output_type": "stream",
       "stream": "stdout",
       "text": [
        "\n",
        "Iteration: #33000, Cost Function Error: 1.542088, Lowest CFE: 1.482512"
       ]
      },
      {
       "output_type": "stream",
       "stream": "stdout",
       "text": [
        "\n",
        "Iteration: #34000, Cost Function Error: 1.439360, Lowest CFE: 1.439360"
       ]
      },
      {
       "output_type": "stream",
       "stream": "stdout",
       "text": [
        "\n",
        "Iteration: #35000, Cost Function Error: 1.497391, Lowest CFE: 1.432083"
       ]
      },
      {
       "output_type": "stream",
       "stream": "stdout",
       "text": [
        "\n",
        "Iteration: #36000, Cost Function Error: 1.443094, Lowest CFE: 1.432083"
       ]
      },
      {
       "output_type": "stream",
       "stream": "stdout",
       "text": [
        "\n",
        "Iteration: #37000, Cost Function Error: 1.404435, Lowest CFE: 1.404435"
       ]
      },
      {
       "output_type": "stream",
       "stream": "stdout",
       "text": [
        "\n",
        "Iteration: #38000, Cost Function Error: 1.369669, Lowest CFE: 1.369669"
       ]
      },
      {
       "output_type": "stream",
       "stream": "stdout",
       "text": [
        "\n",
        "Iteration: #39000, Cost Function Error: 1.366124, Lowest CFE: 1.366124"
       ]
      },
      {
       "output_type": "stream",
       "stream": "stdout",
       "text": [
        "\n",
        "Iteration: #40000, Cost Function Error: 1.373077, Lowest CFE: 1.366124"
       ]
      },
      {
       "output_type": "stream",
       "stream": "stdout",
       "text": [
        "\n",
        "Iteration: #41000, Cost Function Error: 1.372407, Lowest CFE: 1.366124"
       ]
      },
      {
       "output_type": "stream",
       "stream": "stdout",
       "text": [
        "\n",
        "Iteration: #42000, Cost Function Error: 1.329581, Lowest CFE: 1.329581"
       ]
      },
      {
       "output_type": "stream",
       "stream": "stdout",
       "text": [
        "\n",
        "Iteration: #43000, Cost Function Error: 1.311128, Lowest CFE: 1.311128"
       ]
      },
      {
       "output_type": "stream",
       "stream": "stdout",
       "text": [
        "\n",
        "Iteration: #44000, Cost Function Error: 1.285067, Lowest CFE: 1.285067"
       ]
      },
      {
       "output_type": "stream",
       "stream": "stdout",
       "text": [
        "\n",
        "Iteration: #45000, Cost Function Error: 1.291765, Lowest CFE: 1.276821"
       ]
      },
      {
       "output_type": "stream",
       "stream": "stdout",
       "text": [
        "\n",
        "Iteration: #46000, Cost Function Error: 1.284770, Lowest CFE: 1.276821"
       ]
      },
      {
       "output_type": "stream",
       "stream": "stdout",
       "text": [
        "\n",
        "Iteration: #47000, Cost Function Error: 1.295489, Lowest CFE: 1.266196"
       ]
      },
      {
       "output_type": "stream",
       "stream": "stdout",
       "text": [
        "\n",
        "Iteration: #48000, Cost Function Error: 1.271495, Lowest CFE: 1.266196"
       ]
      },
      {
       "output_type": "stream",
       "stream": "stdout",
       "text": [
        "\n",
        "Iteration: #49000, Cost Function Error: 1.291956, Lowest CFE: 1.204288"
       ]
      },
      {
       "output_type": "stream",
       "stream": "stdout",
       "text": [
        "\n",
        "Iteration: #50000, Cost Function Error: 1.236853, Lowest CFE: 1.204288"
       ]
      },
      {
       "output_type": "stream",
       "stream": "stdout",
       "text": [
        "\n",
        "Iteration: #51000, Cost Function Error: 1.243897, Lowest CFE: 1.204288"
       ]
      },
      {
       "output_type": "stream",
       "stream": "stdout",
       "text": [
        "\n",
        "Iteration: #52000, Cost Function Error: 1.244847, Lowest CFE: 1.204288"
       ]
      },
      {
       "output_type": "stream",
       "stream": "stdout",
       "text": [
        "\n",
        "Iteration: #53000, Cost Function Error: 1.230799, Lowest CFE: 1.204288"
       ]
      },
      {
       "output_type": "stream",
       "stream": "stdout",
       "text": [
        "\n",
        "Iteration: #54000, Cost Function Error: 1.228627, Lowest CFE: 1.204288"
       ]
      },
      {
       "output_type": "stream",
       "stream": "stdout",
       "text": [
        "\n",
        "Iteration: #55000, Cost Function Error: 1.209178, Lowest CFE: 1.159852"
       ]
      },
      {
       "output_type": "stream",
       "stream": "stdout",
       "text": [
        "\n",
        "Iteration: #56000, Cost Function Error: 1.176541, Lowest CFE: 1.155152"
       ]
      },
      {
       "output_type": "stream",
       "stream": "stdout",
       "text": [
        "\n",
        "Iteration: #57000, Cost Function Error: 1.235077, Lowest CFE: 1.155152"
       ]
      },
      {
       "output_type": "stream",
       "stream": "stdout",
       "text": [
        "\n",
        "Iteration: #58000, Cost Function Error: 1.186896, Lowest CFE: 1.152137"
       ]
      },
      {
       "output_type": "stream",
       "stream": "stdout",
       "text": [
        "\n",
        "Iteration: #59000, Cost Function Error: 1.176752, Lowest CFE: 1.137130"
       ]
      },
      {
       "output_type": "stream",
       "stream": "stdout",
       "text": [
        "\n",
        "Iteration: #60000, Cost Function Error: 1.163235, Lowest CFE: 1.137130"
       ]
      },
      {
       "output_type": "stream",
       "stream": "stdout",
       "text": [
        "\n",
        "Iteration: #61000, Cost Function Error: 1.177690, Lowest CFE: 1.137130"
       ]
      },
      {
       "output_type": "stream",
       "stream": "stdout",
       "text": [
        "\n",
        "Iteration: #62000, Cost Function Error: 1.117829, Lowest CFE: 1.117829"
       ]
      },
      {
       "output_type": "stream",
       "stream": "stdout",
       "text": [
        "\n",
        "Iteration: #63000, Cost Function Error: 1.139992, Lowest CFE: 1.107750"
       ]
      },
      {
       "output_type": "stream",
       "stream": "stdout",
       "text": [
        "\n",
        "Iteration: #64000, Cost Function Error: 1.113378, Lowest CFE: 1.107750"
       ]
      },
      {
       "output_type": "stream",
       "stream": "stdout",
       "text": [
        "\n",
        "Iteration: #65000, Cost Function Error: 1.124675, Lowest CFE: 1.107750"
       ]
      },
      {
       "output_type": "stream",
       "stream": "stdout",
       "text": [
        "\n",
        "Iteration: #66000, Cost Function Error: 1.127848, Lowest CFE: 1.075947"
       ]
      },
      {
       "output_type": "stream",
       "stream": "stdout",
       "text": [
        "\n",
        "Iteration: #67000, Cost Function Error: 1.128537, Lowest CFE: 1.075947"
       ]
      },
      {
       "output_type": "stream",
       "stream": "stdout",
       "text": [
        "\n",
        "Iteration: #68000, Cost Function Error: 1.091355, Lowest CFE: 1.075947"
       ]
      },
      {
       "output_type": "stream",
       "stream": "stdout",
       "text": [
        "\n",
        "Iteration: #69000, Cost Function Error: 1.105104, Lowest CFE: 1.063159"
       ]
      },
      {
       "output_type": "stream",
       "stream": "stdout",
       "text": [
        "\n",
        "Iteration: #70000, Cost Function Error: 1.084883, Lowest CFE: 1.058229"
       ]
      },
      {
       "output_type": "stream",
       "stream": "stdout",
       "text": [
        "\n",
        "Iteration: #71000, Cost Function Error: 1.082337, Lowest CFE: 1.053291"
       ]
      },
      {
       "output_type": "stream",
       "stream": "stdout",
       "text": [
        "\n",
        "Iteration: #72000, Cost Function Error: 1.076574, Lowest CFE: 1.053291"
       ]
      },
      {
       "output_type": "stream",
       "stream": "stdout",
       "text": [
        "\n",
        "Iteration: #73000, Cost Function Error: 1.103973, Lowest CFE: 1.053291"
       ]
      },
      {
       "output_type": "stream",
       "stream": "stdout",
       "text": [
        "\n",
        "Iteration: #74000, Cost Function Error: 1.022127, Lowest CFE: 1.003409"
       ]
      },
      {
       "output_type": "stream",
       "stream": "stdout",
       "text": [
        "\n",
        "Iteration: #75000, Cost Function Error: 1.060285, Lowest CFE: 1.003409"
       ]
      },
      {
       "output_type": "stream",
       "stream": "stdout",
       "text": [
        "\n",
        "Iteration: #76000, Cost Function Error: 1.020118, Lowest CFE: 0.976573"
       ]
      },
      {
       "output_type": "stream",
       "stream": "stdout",
       "text": [
        "\n",
        "Iteration: #77000, Cost Function Error: 0.979573, Lowest CFE: 0.976573"
       ]
      },
      {
       "output_type": "stream",
       "stream": "stdout",
       "text": [
        "\n",
        "Iteration: #78000, Cost Function Error: 1.001886, Lowest CFE: 0.976573"
       ]
      },
      {
       "output_type": "stream",
       "stream": "stdout",
       "text": [
        "\n",
        "Iteration: #79000, Cost Function Error: 0.987134, Lowest CFE: 0.976573"
       ]
      },
      {
       "output_type": "stream",
       "stream": "stdout",
       "text": [
        "\n",
        "Iteration: #80000, Cost Function Error: 0.975396, Lowest CFE: 0.965125"
       ]
      },
      {
       "output_type": "stream",
       "stream": "stdout",
       "text": [
        "\n",
        "Iteration: #81000, Cost Function Error: 1.022360, Lowest CFE: 0.965125"
       ]
      },
      {
       "output_type": "stream",
       "stream": "stdout",
       "text": [
        "\n",
        "Training complete at #81750 iterations. Cost Function Error: 0.965239"
       ]
      },
      {
       "output_type": "stream",
       "stream": "stdout",
       "text": [
        "\n",
        "2029.388391\n"
       ]
      }
     ],
     "prompt_number": 14
    },
    {
     "cell_type": "code",
     "collapsed": false,
     "input": [
      "preds = NN_XEE.predict(TEST_DATA_SET_STD)\n",
      "accuracy(TEST_LABEL_SET, preds)"
     ],
     "language": "python",
     "metadata": {},
     "outputs": [
      {
       "metadata": {},
       "output_type": "pyout",
       "prompt_number": 15,
       "text": [
        "0.9204"
       ]
      }
     ],
     "prompt_number": 15
    },
    {
     "cell_type": "heading",
     "level": 2,
     "metadata": {},
     "source": [
      "Plots"
     ]
    },
    {
     "cell_type": "code",
     "collapsed": false,
     "input": [
      "NN_MSE_Analysis = TwoNN(784, 200, 10, calculateMSE, calculateMSEGradients)"
     ],
     "language": "python",
     "metadata": {},
     "outputs": [],
     "prompt_number": 38
    },
    {
     "cell_type": "code",
     "collapsed": false,
     "input": [
      "NN_MSE_Analysis.analytics(TRAIN_DATA_SET_STD, TRAIN_LABEL_SET, TEST_DATA_SET_STD, TEST_LABEL_SET, 0.1, max_iters=45000)"
     ],
     "language": "python",
     "metadata": {},
     "outputs": [],
     "prompt_number": 39
    },
    {
     "cell_type": "code",
     "collapsed": false,
     "input": [
      "NN_XEE_Analysis = TwoNN(784, 200, 10, calculateXEE, calculateXEEGradients)"
     ],
     "language": "python",
     "metadata": {},
     "outputs": [],
     "prompt_number": 40
    },
    {
     "cell_type": "code",
     "collapsed": false,
     "input": [
      "NN_XEE_Analysis.analytics(TRAIN_DATA_SET_STD, TRAIN_LABEL_SET, TEST_DATA_SET_STD, TEST_LABEL_SET, 0.1, max_iters=45000)"
     ],
     "language": "python",
     "metadata": {},
     "outputs": []
    },
    {
     "cell_type": "heading",
     "level": 1,
     "metadata": {},
     "source": [
      "Kaggle"
     ]
    },
    {
     "cell_type": "code",
     "collapsed": false,
     "input": [
      "import csv\n",
      "\n",
      "def save_csv(filename, labels):\n",
      "    with open(filename, 'wb') as csvfile:\n",
      "        writer = csv.writer(csvfile, delimiter=\",\")\n",
      "        writer.writerow([\"Id\", \"Category\"])\n",
      "        count = 1\n",
      "        \n",
      "        for pred in labels:\n",
      "            writer.writerow([count, pred])\n",
      "            count+=1\n",
      "            \n",
      "def kaggle(filename, data, model):\n",
      "    pred = model.predict(data)\n",
      "    save_csv(filename, pred)"
     ],
     "language": "python",
     "metadata": {},
     "outputs": [],
     "prompt_number": 26
    },
    {
     "cell_type": "code",
     "collapsed": false,
     "input": [
      "kaggle_MSE = TwoNN(784, 200, 10, calculateMSE, calculateMSEGradients)"
     ],
     "language": "python",
     "metadata": {},
     "outputs": [],
     "prompt_number": 27
    },
    {
     "cell_type": "code",
     "collapsed": false,
     "input": [
      "kaggle_MSE.train(TRAIN_DATA_DIGITS_STD, TRAIN_LABEL_DIGITS, 0.1, threshold=0.00001)"
     ],
     "language": "python",
     "metadata": {},
     "outputs": [
      {
       "output_type": "stream",
       "stream": "stdout",
       "text": [
        "Iteration: #1000, Cost Function Error: 0.048748, Lowest CFE: 0.048748\n",
        "Iteration: #2000, Cost Function Error: 0.037521, Lowest CFE: 0.037521"
       ]
      },
      {
       "output_type": "stream",
       "stream": "stdout",
       "text": [
        "\n",
        "Iteration: #3000, Cost Function Error: 0.030853, Lowest CFE: 0.030853"
       ]
      },
      {
       "output_type": "stream",
       "stream": "stdout",
       "text": [
        "\n",
        "Iteration: #4000, Cost Function Error: 0.026154, Lowest CFE: 0.026154"
       ]
      },
      {
       "output_type": "stream",
       "stream": "stdout",
       "text": [
        "\n",
        "Iteration: #5000, Cost Function Error: 0.022758, Lowest CFE: 0.022758"
       ]
      },
      {
       "output_type": "stream",
       "stream": "stdout",
       "text": [
        "\n",
        "Iteration: #6000, Cost Function Error: 0.021439, Lowest CFE: 0.020682"
       ]
      },
      {
       "output_type": "stream",
       "stream": "stdout",
       "text": [
        "\n",
        "Iteration: #7000, Cost Function Error: 0.018511, Lowest CFE: 0.018511"
       ]
      },
      {
       "output_type": "stream",
       "stream": "stdout",
       "text": [
        "\n",
        "Iteration: #8000, Cost Function Error: 0.016461, Lowest CFE: 0.016461"
       ]
      },
      {
       "output_type": "stream",
       "stream": "stdout",
       "text": [
        "\n",
        "Iteration: #9000, Cost Function Error: 0.015714, Lowest CFE: 0.015295"
       ]
      },
      {
       "output_type": "stream",
       "stream": "stdout",
       "text": [
        "\n",
        "Iteration: #10000, Cost Function Error: 0.014304, Lowest CFE: 0.014304"
       ]
      },
      {
       "output_type": "stream",
       "stream": "stdout",
       "text": [
        "\n",
        "Iteration: #11000, Cost Function Error: 0.012568, Lowest CFE: 0.012568"
       ]
      },
      {
       "output_type": "stream",
       "stream": "stdout",
       "text": [
        "\n",
        "Iteration: #12000, Cost Function Error: 0.011592, Lowest CFE: 0.011592"
       ]
      },
      {
       "output_type": "stream",
       "stream": "stdout",
       "text": [
        "\n",
        "Iteration: #13000, Cost Function Error: 0.011224, Lowest CFE: 0.011031"
       ]
      },
      {
       "output_type": "stream",
       "stream": "stdout",
       "text": [
        "\n",
        "Iteration: #14000, Cost Function Error: 0.010399, Lowest CFE: 0.010399"
       ]
      },
      {
       "output_type": "stream",
       "stream": "stdout",
       "text": [
        "\n",
        "Iteration: #15000, Cost Function Error: 0.009487, Lowest CFE: 0.009487"
       ]
      },
      {
       "output_type": "stream",
       "stream": "stdout",
       "text": [
        "\n",
        "Iteration: #16000, Cost Function Error: 0.008499, Lowest CFE: 0.008499"
       ]
      },
      {
       "output_type": "stream",
       "stream": "stdout",
       "text": [
        "\n",
        "Iteration: #17000, Cost Function Error: 0.008700, Lowest CFE: 0.007929"
       ]
      },
      {
       "output_type": "stream",
       "stream": "stdout",
       "text": [
        "\n",
        "Training complete at #18000 iterations. Cost Function Error: 0.007832"
       ]
      },
      {
       "output_type": "stream",
       "stream": "stdout",
       "text": [
        "\n"
       ]
      }
     ],
     "prompt_number": 28
    },
    {
     "cell_type": "code",
     "collapsed": false,
     "input": [
      "kaggle('MSE.txt', TEST_DATA_DIGITS_STD, kaggle_MSE)"
     ],
     "language": "python",
     "metadata": {},
     "outputs": [],
     "prompt_number": 30
    },
    {
     "cell_type": "code",
     "collapsed": false,
     "input": [
      "kaggle_XEE = TwoNN(784, 200, 10, calculateXEE, calculateXEEGradients)"
     ],
     "language": "python",
     "metadata": {},
     "outputs": []
    },
    {
     "cell_type": "code",
     "collapsed": false,
     "input": [
      "kaggle_XEE.train(TRAIN_DATA_DIGITS_STD, TRAIN_LABEL_DIGITS, 0.1, threshold=0.0005)"
     ],
     "language": "python",
     "metadata": {},
     "outputs": []
    },
    {
     "cell_type": "code",
     "collapsed": false,
     "input": [
      "kaggle('XEE.txt' TEST_DATA_DIGITS_STD, kaggle_XEE)"
     ],
     "language": "python",
     "metadata": {},
     "outputs": []
    }
   ],
   "metadata": {}
  }
 ]
}