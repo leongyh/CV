{
 "metadata": {
  "name": "",
  "signature": "sha256:0737da3e6cc3c645e18a9250f26d6a3f8261aaa4330edc50bbdd54b2e05dbd9f"
 },
 "nbformat": 3,
 "nbformat_minor": 0,
 "worksheets": [
  {
   "cells": [
    {
     "cell_type": "heading",
     "level": 1,
     "metadata": {},
     "source": [
      "Data Pre-processing"
     ]
    },
    {
     "cell_type": "code",
     "collapsed": false,
     "input": [
      "from scipy import io\n",
      "import numpy as np\n",
      "from sklearn.preprocessing import normalize\n",
      "import matplotlib.pyplot as plt\n",
      "import time\n",
      "\n",
      "RAW_DATA_DIGITS_TRAIN = io.loadmat('digit-dataset/train.mat')\n",
      "TRAIN_DATA_DIGITS_L2 = normalize(np.reshape(RAW_DATA_DIGITS_TRAIN['train_images'], (784, 60000)).transpose().astype(float), norm='l2')\n",
      "TRAIN_DATA_DIGITS_STD = np.reshape(RAW_DATA_DIGITS_TRAIN['train_images'], (784, 60000)).transpose().astype(float)\n",
      "TRAIN_DATA_DIGITS_STD -= np.mean(TRAIN_DATA_DIGITS_STD, axis=0)\n",
      "TRAIN_DATA_DIGITS_STD /= np.std(TRAIN_DATA_DIGITS_STD, axis=0)\n",
      "TRAIN_DATA_DIGITS_STD = np.nan_to_num(TRAIN_DATA_DIGITS_STD)\n",
      "\n",
      "TRAIN_LABEL_DIGITS = RAW_DATA_DIGITS_TRAIN['train_labels']\n",
      "\n",
      "RAW_DATA_DIGITS_TEST = io.loadmat('digit-dataset/test.mat')\n",
      "TEST_DATA_DIGITS_L2 = normalize(np.reshape(RAW_DATA_DIGITS_TEST['test_images'], (784, 10000)).transpose().astype(float), norm='l2')\n",
      "TEST_DATA_DIGITS_STD = np.reshape(RAW_DATA_DIGITS_TEST['test_images'], (784, 10000)).transpose().astype(float)\n",
      "TEST_DATA_DIGITS_STD -= np.mean(TEST_DATA_DIGITS_STD, axis=0)\n",
      "TEST_DATA_DIGITS_STD /= np.std(TEST_DATA_DIGITS_STD, axis=0)\n",
      "TEST_DATA_DIGITS_STD = np.nan_to_num(TEST_DATA_DIGITS_STD)"
     ],
     "language": "python",
     "metadata": {},
     "outputs": [
      {
       "output_type": "stream",
       "stream": "stderr",
       "text": [
        "-c:11: RuntimeWarning: invalid value encountered in divide\n",
        "-c:20: RuntimeWarning: invalid value encountered in divide\n"
       ]
      }
     ],
     "prompt_number": 1
    },
    {
     "cell_type": "code",
     "collapsed": false,
     "input": [
      "TRAIN_DATA_DIGITS_L2 = np.append(TRAIN_DATA_DIGITS_L2, np.ones((TRAIN_DATA_DIGITS_L2.shape[0], 1)), axis=1)\n",
      "TEST_DATA_DIGITS_L2 = np.append(TEST_DATA_DIGITS_L2, np.ones((TEST_DATA_DIGITS_L2.shape[0], 1)), axis=1)\n",
      "\n",
      "TRAIN_DATA_DIGITS_STD = np.append(TRAIN_DATA_DIGITS_STD, np.ones((TRAIN_DATA_DIGITS_STD.shape[0], 1)), axis=1)\n",
      "TEST_DATA_DIGITS_STD = np.append(TEST_DATA_DIGITS_STD, np.ones((TEST_DATA_DIGITS_STD.shape[0], 1)), axis=1)\n",
      "\n",
      "temp = np.zeros((TRAIN_LABEL_DIGITS.shape[0], 10))\n",
      "count = 0\n",
      "\n",
      "for y in TRAIN_LABEL_DIGITS:\n",
      "    temp[count][y[0]] = 1\n",
      "    count += 1\n",
      "\n",
      "TRAIN_LABEL_DIGITS = temp"
     ],
     "language": "python",
     "metadata": {},
     "outputs": [],
     "prompt_number": 2
    },
    {
     "cell_type": "code",
     "collapsed": false,
     "input": [
      "RANDOM_IDX = np.random.choice(60000, 55000, replace=False)\n",
      "\n",
      "TRAIN_DATA_SET_L2 = TRAIN_DATA_DIGITS_L2[RANDOM_IDX]\n",
      "TRAIN_DATA_SET_STD = TRAIN_DATA_DIGITS_STD[RANDOM_IDX]\n",
      "TRAIN_LABEL_SET = TRAIN_LABEL_DIGITS[RANDOM_IDX]\n",
      "\n",
      "TEST_DATA_SET_L2 = np.delete(TRAIN_DATA_DIGITS_L2, RANDOM_IDX, axis=0)\n",
      "TEST_DATA_SET_STD = np.delete(TRAIN_DATA_DIGITS_STD, RANDOM_IDX, axis=0)\n",
      "TEST_LABEL_SET = np.delete(TRAIN_LABEL_DIGITS, RANDOM_IDX, axis=0)"
     ],
     "language": "python",
     "metadata": {},
     "outputs": [],
     "prompt_number": 3
    },
    {
     "cell_type": "heading",
     "level": 1,
     "metadata": {},
     "source": [
      "Neural Network"
     ]
    },
    {
     "cell_type": "code",
     "collapsed": false,
     "input": [
      "class TwoNN(object):\n",
      "    def __init__(self, in_size, hidden_size, out_size, cost_function, cost_function_grad):\n",
      "        self.n_in = in_size\n",
      "        self.n_hid = hidden_size\n",
      "        self.n_out = out_size\n",
      "        \n",
      "        self.W_1 = np.random.uniform(low=-0.1, high=0.1, size=(self.n_in, self.n_hid))\n",
      "        self.W_2 = np.random.uniform(low=-0.1, high=0.1, size=(self.n_hid, self.n_out))\n",
      "        self.W_1 = np.append(self.W_1, np.zeros((1, self.n_hid)), axis=0)\n",
      "        self.W_2 = np.append(self.W_2, np.zeros((1, self.n_out)), axis=0)\n",
      "        \n",
      "        self.cost_function = cost_function\n",
      "        self.cost_function_grad = cost_function_grad\n",
      "    \n",
      "    \n",
      "    def train(self, images, labels, learning_rate, damping=(lambda x, y: x), threshold=0.00005):\n",
      "        iters = 0\n",
      "        error = 0.0\n",
      "        lowest_error = 999.999\n",
      "        rate = learning_rate\n",
      "\n",
      "        while True:\n",
      "            k = np.random.randint(0, images.shape[0])\n",
      "\n",
      "            sample_data = images[k]\n",
      "            sample_label = labels[k]\n",
      "\n",
      "            y_pred = self.forward(sample_data, self.W_1, self.W_2)\n",
      "            dEdW_1, dEdW_2 = self.cost_function_grad(sample_data, sample_label, y_pred, self.z_2, self.a_2, self.z_3, self.W_1, self.W_2)\n",
      "            \n",
      "\n",
      "            self.W_1 -= rate * dEdW_1\n",
      "            self.W_2 -= rate * dEdW_2\n",
      "\n",
      "            iters += 1\n",
      "            error += self.cost_function(sample_label, y_pred)\n",
      "\n",
      "            if iters % 10000 == 0:\n",
      "                error /= 10000\n",
      "                \n",
      "                if np.fabs(lowest_error - error) < threshold:\n",
      "                    print \"Training complete at #%d iterations. Cost Function Error: %f\" % (iters, error)\n",
      "                    \n",
      "                    return\n",
      "            \n",
      "                if error < lowest_error:\n",
      "                    lowest_error = error\n",
      "                    \n",
      "                if iters % 50000 == 0:\n",
      "                    print \"Iteration: #%d, Cost Function Error: %f, Lowest CFE: %f\" % (iters, error, lowest_error)\n",
      "\n",
      "                error = 0.0\n",
      "                \n",
      "            rate = damping(rate, iters)\n",
      "    \n",
      "    \n",
      "    def analytics(self, train_images, train_labels, test_images, test_labels, learning_rate, damping=(lambda x, y: x), max_iters=3000000):\n",
      "        iterations = []\n",
      "        error_rates = []\n",
      "        \n",
      "        iters = 0\n",
      "        rate = learning_rate\n",
      "        \n",
      "        iterations.append(iters)\n",
      "        preds = self.predict(test_images)\n",
      "        error_rates.append(self.errorCalc(test_labels, preds))\n",
      "        \n",
      "        while iters <= max_iters:\n",
      "            k = np.random.randint(0, train_images.shape[0])\n",
      "\n",
      "            sample_data = train_images[k]\n",
      "            sample_label = train_labels[k]\n",
      "\n",
      "            y_pred = self.forward(sample_data, self.W_1, self.W_2)\n",
      "            dEdW_1, dEdW_2 = self.cost_function_grad(sample_data, sample_label, y_pred, self.z_2, self.a_2, self.z_3, self.W_1, self.W_2)\n",
      "            \n",
      "            self.W_1 -= rate * dEdW_1\n",
      "            self.W_2 -= rate * dEdW_2\n",
      "\n",
      "            iters += 1\n",
      "\n",
      "            if iters % 20000 == 0:\n",
      "                iterations.append(iters)\n",
      "                preds = self.predict(test_images)\n",
      "                error_rates.append(self.errorCalc(test_labels, preds))\n",
      "                \n",
      "            rate = damping(rate, iters)\n",
      "                    \n",
      "        plt.plot(iterations, error_rates)\n",
      "        plt.ylabel(\"Error\")\n",
      "        plt.xlabel(\"Iterations\")\n",
      "        plt.show()\n",
      "        \n",
      "        \n",
      "    def predict(self, images):\n",
      "        labels = []\n",
      "\n",
      "        for x in images:\n",
      "            tanh = np.tanh(np.dot(x, self.W_1)) # 200x785 dot 785x1 -> 200x1\n",
      "            tanh = np.append(tanh, 1)# -> 201x1\n",
      "            result = sigmoid(np.dot(tanh, self.W_2))\n",
      "            \n",
      "            labels.append(np.argmax(result))\n",
      "\n",
      "        return labels\n",
      "    \n",
      "    \n",
      "    def errorCalc(self, y, pred):\n",
      "        hits = 0.0\n",
      "        count = 0\n",
      "\n",
      "        for label in y:\n",
      "            if np.argmax(label) == pred[count]:\n",
      "                hits += 1.0\n",
      "\n",
      "            count += 1\n",
      "\n",
      "        return 1.0 - hits/count\n",
      "    \n",
      "    \n",
      "    def forward(self, x, W_1, W_2):\n",
      "        self.z_2 = np.dot(x, W_1) #1x785 dot 785x200 -> 1x200\n",
      "        self.a_2 = np.tanh(self.z_2) #1x200\n",
      "        self.a_2 = np.append(self.a_2, 1) #1x200 -> 1x201\n",
      "        self.z_3 = np.dot(self.a_2, self.W_2) #1x201 dot 201x10 -> 1x10\n",
      "        \n",
      "        return sigmoid(self.z_3)\n",
      "\n",
      "    \n",
      "def sigmoid(z):\n",
      "    return 1 / (1 + np.exp(-z))\n",
      "\n",
      "\n",
      "def sigmoidPrime(z):\n",
      "    return np.exp(-z) / ((1 + np.exp(-z)) ** 2)        \n",
      "    \n",
      "\n",
      "def calculateMSE(y, h):    \n",
      "    return 0.5 * np.sum(np.square(y - h))\n",
      "\n",
      "\n",
      "def calculateMSEGradients(x, y, y_pred, z_2, a_2, z_3, W_1, W_2):\n",
      "    e = y - y_pred #1x10 - 1x10 -> 1x10\n",
      "    d_3 = -1 * np.multiply(e, sigmoidPrime(z_3)) #1x10 * 1x10 -> 1x10\n",
      "    dEdW_2 = np.outer(a_2, d_3) #1x201 outer 1x10 -> 201x10\n",
      "    \n",
      "    d_3W_2 = np.dot(d_3, W_2.T)[0:-1] #1x10 dot 10x201 -> 1x201 -> 1x200\n",
      "    z_2_prime = 1 - np.square(np.tanh(z_2)) #1x200\n",
      "    d_2 = np.multiply(d_3W_2, z_2_prime) #1x200 * 1x200 ->1x200\n",
      "    dEdW_1 = np.outer(x, d_2) #1x785 outer 1x200 = 785x200\n",
      "    \n",
      "    return (dEdW_1, dEdW_2)\n",
      "\n",
      "\n",
      "def calculateXEE(y, h):\n",
      "    i = h\n",
      "    j = 1 - h\n",
      "    i[i < 0.000001] = 0.000001\n",
      "    j[j < 0.000001] = 0.000001\n",
      "    \n",
      "    a = np.multiply(y, np.log(i))\n",
      "    b = np.multiply(1 - y, np.log(j))\n",
      "    c = np.add(a, b)\n",
      "    \n",
      "    return -1 * np.sum(c)\n",
      "\n",
      "\n",
      "def calculateXEEGradients(x, y, y_pred, z_2, a_2, z_3, W_1, W_2):\n",
      "    e = y_pred - y #1x10 - 1x10 -> 1x10\n",
      "    dEdW_2 = np.outer(a_2, e) #1x201 outer 1x10 -> 201x10\n",
      "    \n",
      "    eW_2 = np.dot(e, W_2.T)[0:-1] #1x10 dot 10x201 -> 1x201 -> 1x200\n",
      "    z_2_prime = 1 - np.square(np.tanh(z_2)) #1x200\n",
      "    d_2 = np.multiply(eW_2, z_2_prime) #1x200 * 1x200 ->1x200\n",
      "    dEdW_1 = np.outer(x, d_2) #1x785 outer 1x200 = 785x200\n",
      "    \n",
      "    return (dEdW_1, dEdW_2)\n",
      "\n",
      "\n",
      "def accuracy(y, pred):\n",
      "    hits = 0.0\n",
      "    count = 0\n",
      "    \n",
      "    for label in y:\n",
      "        if np.argmax(label) == pred[count]:\n",
      "            hits += 1.0\n",
      "            \n",
      "        count += 1\n",
      "        \n",
      "    return hits/count"
     ],
     "language": "python",
     "metadata": {},
     "outputs": [],
     "prompt_number": 4
    },
    {
     "cell_type": "heading",
     "level": 2,
     "metadata": {},
     "source": [
      "Mean Squared Error as Cost Function"
     ]
    },
    {
     "cell_type": "code",
     "collapsed": false,
     "input": [
      "NN_MSE = TwoNN(784, 200, 10, calculateMSE, calculateMSEGradients)"
     ],
     "language": "python",
     "metadata": {},
     "outputs": [],
     "prompt_number": 14
    },
    {
     "cell_type": "code",
     "collapsed": false,
     "input": [
      "start = time.clock()\n",
      "\n",
      "NN_MSE.train(TRAIN_DATA_SET_STD, TRAIN_LABEL_SET, 0.1, threshold=0.000025)\n",
      "\n",
      "end = time.clock()\n",
      "\n",
      "print end - start"
     ],
     "language": "python",
     "metadata": {},
     "outputs": [
      {
       "output_type": "stream",
       "stream": "stdout",
       "text": [
        "Iteration: #50000, Cost Function Error: 0.069846, Lowest CFE: 0.069846\n",
        "Iteration: #100000, Cost Function Error: 0.051958, Lowest CFE: 0.051958"
       ]
      },
      {
       "output_type": "stream",
       "stream": "stdout",
       "text": [
        "\n",
        "Iteration: #150000, Cost Function Error: 0.044050, Lowest CFE: 0.044050"
       ]
      },
      {
       "output_type": "stream",
       "stream": "stdout",
       "text": [
        "\n",
        "Iteration: #200000, Cost Function Error: 0.038827, Lowest CFE: 0.038827"
       ]
      },
      {
       "output_type": "stream",
       "stream": "stdout",
       "text": [
        "\n",
        "Iteration: #250000, Cost Function Error: 0.036327, Lowest CFE: 0.035761"
       ]
      },
      {
       "output_type": "stream",
       "stream": "stdout",
       "text": [
        "\n",
        "Iteration: #300000, Cost Function Error: 0.033247, Lowest CFE: 0.033247"
       ]
      },
      {
       "output_type": "stream",
       "stream": "stdout",
       "text": [
        "\n",
        "Iteration: #350000, Cost Function Error: 0.032107, Lowest CFE: 0.032107"
       ]
      },
      {
       "output_type": "stream",
       "stream": "stdout",
       "text": [
        "\n",
        "Iteration: #400000, Cost Function Error: 0.032907, Lowest CFE: 0.032107"
       ]
      },
      {
       "output_type": "stream",
       "stream": "stdout",
       "text": [
        "\n",
        "Iteration: #450000, Cost Function Error: 0.029562, Lowest CFE: 0.027541"
       ]
      },
      {
       "output_type": "stream",
       "stream": "stdout",
       "text": [
        "\n",
        "Iteration: #500000, Cost Function Error: 0.026978, Lowest CFE: 0.026978"
       ]
      },
      {
       "output_type": "stream",
       "stream": "stdout",
       "text": [
        "\n",
        "Iteration: #550000, Cost Function Error: 0.024941, Lowest CFE: 0.024941"
       ]
      },
      {
       "output_type": "stream",
       "stream": "stdout",
       "text": [
        "\n",
        "Iteration: #600000, Cost Function Error: 0.026058, Lowest CFE: 0.024941"
       ]
      },
      {
       "output_type": "stream",
       "stream": "stdout",
       "text": [
        "\n",
        "Iteration: #650000, Cost Function Error: 0.023869, Lowest CFE: 0.023531"
       ]
      },
      {
       "output_type": "stream",
       "stream": "stdout",
       "text": [
        "\n",
        "Iteration: #700000, Cost Function Error: 0.022893, Lowest CFE: 0.022893"
       ]
      },
      {
       "output_type": "stream",
       "stream": "stdout",
       "text": [
        "\n",
        "Iteration: #750000, Cost Function Error: 0.024476, Lowest CFE: 0.021396"
       ]
      },
      {
       "output_type": "stream",
       "stream": "stdout",
       "text": [
        "\n",
        "Iteration: #800000, Cost Function Error: 0.021559, Lowest CFE: 0.019703"
       ]
      },
      {
       "output_type": "stream",
       "stream": "stdout",
       "text": [
        "\n",
        "Iteration: #850000, Cost Function Error: 0.021901, Lowest CFE: 0.019703"
       ]
      },
      {
       "output_type": "stream",
       "stream": "stdout",
       "text": [
        "\n",
        "Iteration: #900000, Cost Function Error: 0.017668, Lowest CFE: 0.017668"
       ]
      },
      {
       "output_type": "stream",
       "stream": "stdout",
       "text": [
        "\n",
        "Iteration: #950000, Cost Function Error: 0.019223, Lowest CFE: 0.017668"
       ]
      },
      {
       "output_type": "stream",
       "stream": "stdout",
       "text": [
        "\n",
        "Training complete at #970000 iterations. Cost Function Error: 0.017706"
       ]
      },
      {
       "output_type": "stream",
       "stream": "stdout",
       "text": [
        "\n",
        "1191.765067\n"
       ]
      }
     ],
     "prompt_number": 15
    },
    {
     "cell_type": "code",
     "collapsed": false,
     "input": [
      "preds = NN_MSE.predict(TEST_DATA_SET_STD)\n",
      "accuracy(TEST_LABEL_SET, preds)"
     ],
     "language": "python",
     "metadata": {},
     "outputs": [
      {
       "metadata": {},
       "output_type": "pyout",
       "prompt_number": 16,
       "text": [
        "0.9516"
       ]
      }
     ],
     "prompt_number": 16
    },
    {
     "cell_type": "heading",
     "level": 2,
     "metadata": {},
     "source": [
      "Cross Entropy Error as Cost Function"
     ]
    },
    {
     "cell_type": "code",
     "collapsed": false,
     "input": [
      "NN_XEE = TwoNN(784, 200, 10, calculateXEE, calculateXEEGradients)"
     ],
     "language": "python",
     "metadata": {},
     "outputs": [],
     "prompt_number": 36
    },
    {
     "cell_type": "code",
     "collapsed": false,
     "input": [
      "start = time.clock()\n",
      "\n",
      "NN_XEE.train(TRAIN_DATA_SET_STD, TRAIN_LABEL_SET, 0.5, damping=(lambda x, y: (x/1.5) if y % 1000000 == 0 else x), threshold=0.0005)\n",
      "\n",
      "end = time.clock()\n",
      "\n",
      "print end - start"
     ],
     "language": "python",
     "metadata": {},
     "outputs": [
      {
       "output_type": "stream",
       "stream": "stdout",
       "text": [
        "Iteration: #50000, Cost Function Error: 6.861334, Lowest CFE: 6.861334\n"
       ]
      },
      {
       "ename": "KeyboardInterrupt",
       "evalue": "",
       "output_type": "pyerr",
       "traceback": [
        "\u001b[1;31m---------------------------------------------------------------------------\u001b[0m\n\u001b[1;31mKeyboardInterrupt\u001b[0m                         Traceback (most recent call last)",
        "\u001b[1;32m<ipython-input-37-8d6b9b306f81>\u001b[0m in \u001b[0;36m<module>\u001b[1;34m()\u001b[0m\n\u001b[0;32m      1\u001b[0m \u001b[0mstart\u001b[0m \u001b[1;33m=\u001b[0m \u001b[0mtime\u001b[0m\u001b[1;33m.\u001b[0m\u001b[0mclock\u001b[0m\u001b[1;33m(\u001b[0m\u001b[1;33m)\u001b[0m\u001b[1;33m\u001b[0m\u001b[0m\n\u001b[0;32m      2\u001b[0m \u001b[1;33m\u001b[0m\u001b[0m\n\u001b[1;32m----> 3\u001b[1;33m \u001b[0mNN_XEE\u001b[0m\u001b[1;33m.\u001b[0m\u001b[0mtrain\u001b[0m\u001b[1;33m(\u001b[0m\u001b[0mTRAIN_DATA_SET_STD\u001b[0m\u001b[1;33m,\u001b[0m \u001b[0mTRAIN_LABEL_SET\u001b[0m\u001b[1;33m,\u001b[0m \u001b[1;36m0.5\u001b[0m\u001b[1;33m,\u001b[0m \u001b[0mdamping\u001b[0m\u001b[1;33m=\u001b[0m\u001b[1;33m(\u001b[0m\u001b[1;32mlambda\u001b[0m \u001b[0mx\u001b[0m\u001b[1;33m,\u001b[0m \u001b[0my\u001b[0m\u001b[1;33m:\u001b[0m \u001b[1;33m(\u001b[0m\u001b[0mx\u001b[0m\u001b[1;33m/\u001b[0m\u001b[1;36m1.5\u001b[0m\u001b[1;33m)\u001b[0m \u001b[1;32mif\u001b[0m \u001b[0my\u001b[0m \u001b[1;33m%\u001b[0m \u001b[1;36m100000\u001b[0m \u001b[1;33m==\u001b[0m \u001b[1;36m0\u001b[0m \u001b[1;32melse\u001b[0m \u001b[0mx\u001b[0m\u001b[1;33m)\u001b[0m\u001b[1;33m,\u001b[0m \u001b[0mthreshold\u001b[0m\u001b[1;33m=\u001b[0m\u001b[1;36m0.0005\u001b[0m\u001b[1;33m)\u001b[0m\u001b[1;33m\u001b[0m\u001b[0m\n\u001b[0m\u001b[0;32m      4\u001b[0m \u001b[1;33m\u001b[0m\u001b[0m\n\u001b[0;32m      5\u001b[0m \u001b[0mend\u001b[0m \u001b[1;33m=\u001b[0m \u001b[0mtime\u001b[0m\u001b[1;33m.\u001b[0m\u001b[0mclock\u001b[0m\u001b[1;33m(\u001b[0m\u001b[1;33m)\u001b[0m\u001b[1;33m\u001b[0m\u001b[0m\n",
        "\u001b[1;32m<ipython-input-33-d06900149161>\u001b[0m in \u001b[0;36mtrain\u001b[1;34m(self, images, labels, learning_rate, damping, threshold)\u001b[0m\n\u001b[0;32m     30\u001b[0m \u001b[1;33m\u001b[0m\u001b[0m\n\u001b[0;32m     31\u001b[0m \u001b[1;33m\u001b[0m\u001b[0m\n\u001b[1;32m---> 32\u001b[1;33m             \u001b[0mself\u001b[0m\u001b[1;33m.\u001b[0m\u001b[0mW_1\u001b[0m \u001b[1;33m-=\u001b[0m \u001b[0mrate\u001b[0m \u001b[1;33m*\u001b[0m \u001b[0mdEdW_1\u001b[0m\u001b[1;33m\u001b[0m\u001b[0m\n\u001b[0m\u001b[0;32m     33\u001b[0m             \u001b[0mself\u001b[0m\u001b[1;33m.\u001b[0m\u001b[0mW_2\u001b[0m \u001b[1;33m-=\u001b[0m \u001b[0mrate\u001b[0m \u001b[1;33m*\u001b[0m \u001b[0mdEdW_2\u001b[0m\u001b[1;33m\u001b[0m\u001b[0m\n\u001b[0;32m     34\u001b[0m \u001b[1;33m\u001b[0m\u001b[0m\n",
        "\u001b[1;31mKeyboardInterrupt\u001b[0m: "
       ]
      }
     ],
     "prompt_number": 37
    },
    {
     "cell_type": "code",
     "collapsed": false,
     "input": [
      "preds = NN_XEE.predict(TEST_DATA_SET_STD)\n",
      "accuracy(TEST_LABEL_SET, preds)"
     ],
     "language": "python",
     "metadata": {},
     "outputs": [
      {
       "metadata": {},
       "output_type": "pyout",
       "prompt_number": 32,
       "text": [
        "0.8656"
       ]
      }
     ],
     "prompt_number": 32
    },
    {
     "cell_type": "heading",
     "level": 2,
     "metadata": {},
     "source": [
      "Plots"
     ]
    },
    {
     "cell_type": "code",
     "collapsed": false,
     "input": [
      "NN_MSE_Analysis = TwoNN(784, 200, 10, calculateMSE, calculateMSEGradients)"
     ],
     "language": "python",
     "metadata": {},
     "outputs": [],
     "prompt_number": 16
    },
    {
     "cell_type": "code",
     "collapsed": false,
     "input": [
      "NN_MSE_Analysis.analytics(TRAIN_DATA_SET_STD, TRAIN_LABEL_SET, TEST_DATA_SET_STD, TEST_LABEL_SET, 0.1, max_iters=1500000)"
     ],
     "language": "python",
     "metadata": {},
     "outputs": [],
     "prompt_number": 17
    },
    {
     "cell_type": "code",
     "collapsed": false,
     "input": [
      "NN_XEE_Analysis = TwoNN(784, 200, 10, calculateXEE, calculateXEEGradients)"
     ],
     "language": "python",
     "metadata": {},
     "outputs": [],
     "prompt_number": 18
    },
    {
     "cell_type": "code",
     "collapsed": false,
     "input": [
      "NN_XEE_Analysis.analytics(TRAIN_DATA_SET_STD, TRAIN_LABEL_SET, TEST_DATA_SET_STD, TEST_LABEL_SET, 0.5, damping=(lambda x, y: (x/1.5) if y % 1000000 == 0 else x), max_iters=1500000)"
     ],
     "language": "python",
     "metadata": {},
     "outputs": []
    },
    {
     "cell_type": "heading",
     "level": 1,
     "metadata": {},
     "source": [
      "Kaggle"
     ]
    },
    {
     "cell_type": "code",
     "collapsed": false,
     "input": [
      "import csv\n",
      "\n",
      "def save_csv(filename, labels):\n",
      "    with open(filename, 'wb') as csvfile:\n",
      "        writer = csv.writer(csvfile, delimiter=\",\")\n",
      "        writer.writerow([\"Id\", \"Category\"])\n",
      "        count = 1\n",
      "        \n",
      "        for pred in labels:\n",
      "            writer.writerow([count, pred])\n",
      "            count+=1\n",
      "            \n",
      "def kaggle(filename, data, model):\n",
      "    pred = model.predict(data)\n",
      "    save_csv(filename, pred)"
     ],
     "language": "python",
     "metadata": {},
     "outputs": [],
     "prompt_number": 5
    },
    {
     "cell_type": "code",
     "collapsed": false,
     "input": [
      "kaggle_MSE = TwoNN(784, 200, 10, calculateMSE, calculateMSEGradients)"
     ],
     "language": "python",
     "metadata": {},
     "outputs": [],
     "prompt_number": 10
    },
    {
     "cell_type": "code",
     "collapsed": false,
     "input": [
      "kaggle_MSE.train(TRAIN_DATA_DIGITS_STD, TRAIN_LABEL_DIGITS, 0.1, threshold=0.000015)"
     ],
     "language": "python",
     "metadata": {},
     "outputs": [
      {
       "output_type": "stream",
       "stream": "stdout",
       "text": [
        "Iteration: #50000, Cost Function Error: 0.067902, Lowest CFE: 0.067902\n",
        "Iteration: #100000, Cost Function Error: 0.053420, Lowest CFE: 0.053420"
       ]
      },
      {
       "output_type": "stream",
       "stream": "stdout",
       "text": [
        "\n",
        "Iteration: #150000, Cost Function Error: 0.048503, Lowest CFE: 0.048503"
       ]
      },
      {
       "output_type": "stream",
       "stream": "stdout",
       "text": [
        "\n",
        "Iteration: #200000, Cost Function Error: 0.043936, Lowest CFE: 0.043049"
       ]
      },
      {
       "output_type": "stream",
       "stream": "stdout",
       "text": [
        "\n",
        "Iteration: #250000, Cost Function Error: 0.039452, Lowest CFE: 0.039452"
       ]
      },
      {
       "output_type": "stream",
       "stream": "stdout",
       "text": [
        "\n",
        "Iteration: #300000, Cost Function Error: 0.037316, Lowest CFE: 0.036769"
       ]
      },
      {
       "output_type": "stream",
       "stream": "stdout",
       "text": [
        "\n",
        "Iteration: #350000, Cost Function Error: 0.033580, Lowest CFE: 0.033580"
       ]
      },
      {
       "output_type": "stream",
       "stream": "stdout",
       "text": [
        "\n",
        "Iteration: #400000, Cost Function Error: 0.033723, Lowest CFE: 0.032656"
       ]
      },
      {
       "output_type": "stream",
       "stream": "stdout",
       "text": [
        "\n",
        "Iteration: #450000, Cost Function Error: 0.032206, Lowest CFE: 0.028210"
       ]
      },
      {
       "output_type": "stream",
       "stream": "stdout",
       "text": [
        "\n",
        "Iteration: #500000, Cost Function Error: 0.029600, Lowest CFE: 0.028069"
       ]
      },
      {
       "output_type": "stream",
       "stream": "stdout",
       "text": [
        "\n",
        "Iteration: #550000, Cost Function Error: 0.029515, Lowest CFE: 0.028069"
       ]
      },
      {
       "output_type": "stream",
       "stream": "stdout",
       "text": [
        "\n",
        "Iteration: #600000, Cost Function Error: 0.025323, Lowest CFE: 0.025323"
       ]
      },
      {
       "output_type": "stream",
       "stream": "stdout",
       "text": [
        "\n",
        "Iteration: #650000, Cost Function Error: 0.027818, Lowest CFE: 0.025323"
       ]
      },
      {
       "output_type": "stream",
       "stream": "stdout",
       "text": [
        "\n",
        "Iteration: #700000, Cost Function Error: 0.027108, Lowest CFE: 0.025323"
       ]
      },
      {
       "output_type": "stream",
       "stream": "stdout",
       "text": [
        "\n",
        "Iteration: #750000, Cost Function Error: 0.024619, Lowest CFE: 0.021947"
       ]
      },
      {
       "output_type": "stream",
       "stream": "stdout",
       "text": [
        "\n",
        "Iteration: #800000, Cost Function Error: 0.023409, Lowest CFE: 0.021947"
       ]
      },
      {
       "output_type": "stream",
       "stream": "stdout",
       "text": [
        "\n",
        "Iteration: #850000, Cost Function Error: 0.024828, Lowest CFE: 0.020716"
       ]
      },
      {
       "output_type": "stream",
       "stream": "stdout",
       "text": [
        "\n",
        "Iteration: #900000, Cost Function Error: 0.021283, Lowest CFE: 0.020716"
       ]
      },
      {
       "output_type": "stream",
       "stream": "stdout",
       "text": [
        "\n",
        "Iteration: #950000, Cost Function Error: 0.021493, Lowest CFE: 0.020716"
       ]
      },
      {
       "output_type": "stream",
       "stream": "stdout",
       "text": [
        "\n",
        "Iteration: #1000000, Cost Function Error: 0.020477, Lowest CFE: 0.020285"
       ]
      },
      {
       "output_type": "stream",
       "stream": "stdout",
       "text": [
        "\n",
        "Iteration: #1050000, Cost Function Error: 0.020278, Lowest CFE: 0.019852"
       ]
      },
      {
       "output_type": "stream",
       "stream": "stdout",
       "text": [
        "\n",
        "Iteration: #1100000, Cost Function Error: 0.019016, Lowest CFE: 0.018100"
       ]
      },
      {
       "output_type": "stream",
       "stream": "stdout",
       "text": [
        "\n",
        "Iteration: #1150000, Cost Function Error: 0.018180, Lowest CFE: 0.017950"
       ]
      },
      {
       "output_type": "stream",
       "stream": "stdout",
       "text": [
        "\n",
        "Iteration: #1200000, Cost Function Error: 0.018403, Lowest CFE: 0.017926"
       ]
      },
      {
       "output_type": "stream",
       "stream": "stdout",
       "text": [
        "\n",
        "Iteration: #1250000, Cost Function Error: 0.016712, Lowest CFE: 0.015912"
       ]
      },
      {
       "output_type": "stream",
       "stream": "stdout",
       "text": [
        "\n",
        "Iteration: #1300000, Cost Function Error: 0.018388, Lowest CFE: 0.015912"
       ]
      },
      {
       "output_type": "stream",
       "stream": "stdout",
       "text": [
        "\n",
        "Iteration: #1350000, Cost Function Error: 0.017350, Lowest CFE: 0.015912"
       ]
      },
      {
       "output_type": "stream",
       "stream": "stdout",
       "text": [
        "\n",
        "Iteration: #1400000, Cost Function Error: 0.017111, Lowest CFE: 0.015912"
       ]
      },
      {
       "output_type": "stream",
       "stream": "stdout",
       "text": [
        "\n",
        "Iteration: #1450000, Cost Function Error: 0.018210, Lowest CFE: 0.015499"
       ]
      },
      {
       "output_type": "stream",
       "stream": "stdout",
       "text": [
        "\n",
        "Iteration: #1500000, Cost Function Error: 0.015137, Lowest CFE: 0.015137"
       ]
      },
      {
       "output_type": "stream",
       "stream": "stdout",
       "text": [
        "\n",
        "Iteration: #1550000, Cost Function Error: 0.014820, Lowest CFE: 0.014393"
       ]
      },
      {
       "output_type": "stream",
       "stream": "stdout",
       "text": [
        "\n",
        "Iteration: #1600000, Cost Function Error: 0.015414, Lowest CFE: 0.014393"
       ]
      },
      {
       "output_type": "stream",
       "stream": "stdout",
       "text": [
        "\n",
        "Iteration: #1650000, Cost Function Error: 0.014567, Lowest CFE: 0.014393"
       ]
      },
      {
       "output_type": "stream",
       "stream": "stdout",
       "text": [
        "\n",
        "Iteration: #1700000, Cost Function Error: 0.013364, Lowest CFE: 0.013364"
       ]
      },
      {
       "output_type": "stream",
       "stream": "stdout",
       "text": [
        "\n",
        "Iteration: #1750000, Cost Function Error: 0.013598, Lowest CFE: 0.013364"
       ]
      },
      {
       "output_type": "stream",
       "stream": "stdout",
       "text": [
        "\n",
        "Iteration: #1800000, Cost Function Error: 0.012685, Lowest CFE: 0.012685"
       ]
      },
      {
       "output_type": "stream",
       "stream": "stdout",
       "text": [
        "\n",
        "Iteration: #1850000, Cost Function Error: 0.012571, Lowest CFE: 0.012431"
       ]
      },
      {
       "output_type": "stream",
       "stream": "stdout",
       "text": [
        "\n",
        "Iteration: #1900000, Cost Function Error: 0.013983, Lowest CFE: 0.011804"
       ]
      },
      {
       "output_type": "stream",
       "stream": "stdout",
       "text": [
        "\n",
        "Iteration: #1950000, Cost Function Error: 0.012723, Lowest CFE: 0.011804"
       ]
      },
      {
       "output_type": "stream",
       "stream": "stdout",
       "text": [
        "\n",
        "Training complete at #1960000 iterations. Cost Function Error: 0.011817"
       ]
      },
      {
       "output_type": "stream",
       "stream": "stdout",
       "text": [
        "\n"
       ]
      }
     ],
     "prompt_number": 11
    },
    {
     "cell_type": "code",
     "collapsed": false,
     "input": [
      "kaggle('MSE.txt', TEST_DATA_DIGITS_STD, kaggle_MSE)"
     ],
     "language": "python",
     "metadata": {},
     "outputs": [],
     "prompt_number": 13
    },
    {
     "cell_type": "code",
     "collapsed": false,
     "input": [
      "kaggle_XEE = TwoNN(784, 200, 10, calculateXEE, calculateXEEGradients)"
     ],
     "language": "python",
     "metadata": {},
     "outputs": []
    },
    {
     "cell_type": "code",
     "collapsed": false,
     "input": [
      "kaggle_XEE.train(TRAIN_DATA_DIGITS_STD, TRAIN_LABEL_DIGITS, 0.1, damping=(lambda x, y: (x/1.5) if y % 1000000 == 0 else x), threshold=0.0005)"
     ],
     "language": "python",
     "metadata": {},
     "outputs": []
    },
    {
     "cell_type": "code",
     "collapsed": false,
     "input": [
      "kaggle('XEE.txt' TEST_DATA_DIGITS_STD, kaggle_XEE)"
     ],
     "language": "python",
     "metadata": {},
     "outputs": []
    }
   ],
   "metadata": {}
  }
 ]
}