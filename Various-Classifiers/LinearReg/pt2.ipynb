{
 "metadata": {
  "name": "",
  "signature": "sha256:d5664c7128167fdb3bc0232da73b971dc974aca29b24b5444b92e80ad4478dba"
 },
 "nbformat": 3,
 "nbformat_minor": 0,
 "worksheets": [
  {
   "cells": [
    {
     "cell_type": "heading",
     "level": 1,
     "metadata": {},
     "source": [
      "Problem 3"
     ]
    },
    {
     "cell_type": "code",
     "collapsed": false,
     "input": [
      "import numpy as np\n",
      "import matplotlib.pyplot as plt\n",
      "from scipy import io\n",
      "\n",
      "RAW_DATA_SPAM = io.loadmat('spam.mat')\n",
      "DATA_SPAM_TRAIN = np.asarray(RAW_DATA_SPAM['Xtrain'])\n",
      "Y = np.asarray(RAW_DATA_SPAM['ytrain'])"
     ],
     "language": "python",
     "metadata": {},
     "outputs": [],
     "prompt_number": 1
    },
    {
     "cell_type": "code",
     "collapsed": false,
     "input": [
      "STANDARDIZED_X = (DATA_SPAM_TRAIN - np.mean(DATA_SPAM_TRAIN)) / np.std(DATA_SPAM_TRAIN)\n",
      "LOG_X = np.log(DATA_SPAM_TRAIN + 0.1)\n",
      "BINARY_X = []\n",
      "\n",
      "for i in range(DATA_SPAM_TRAIN.shape[0]):\n",
      "    data = []\n",
      "    for j in range(DATA_SPAM_TRAIN.shape[1]):\n",
      "        if DATA_SPAM_TRAIN[i][j] > 0:\n",
      "            data.append(1)\n",
      "        else:\n",
      "            data.append(0)\n",
      "    BINARY_X.append(data)\n",
      "    \n",
      "BINARY_X = np.asarray(BINARY_X)"
     ],
     "language": "python",
     "metadata": {},
     "outputs": [],
     "prompt_number": 2
    },
    {
     "cell_type": "heading",
     "level": 2,
     "metadata": {},
     "source": [
      "Problem 3.1"
     ]
    },
    {
     "cell_type": "code",
     "collapsed": false,
     "input": [
      "def sigmoid(z):\n",
      "    return (1 / (1 + np.exp(-1 * z)))\n",
      "\n",
      "def grad_desc_loss(X, Y, param, n, iters):\n",
      "    beta = np.zeros(X.shape[1])\n",
      "    iterations = []\n",
      "    loss = []\n",
      "    \n",
      "    for i in range(iters):\n",
      "        if (i % 1000) == 0:\n",
      "            s = 0.0\n",
      "\n",
      "            for k in range(X.shape[0]):\n",
      "                mu = sigmoid(np.dot(beta, X[k]))\n",
      "                if mu == 0:\n",
      "                    mu = 0.0001\n",
      "                elif mu == 1:\n",
      "                    mu = 0.9999\n",
      "                s += (Y[k][0] * np.log(mu) + (1.0 - Y[k][0]) * np.log(1.0 - mu))\n",
      "\n",
      "            l = param * np.dot(beta, beta) - s\n",
      "            iterations.append(i)\n",
      "            loss.append(l)\n",
      "            print \"Iteration %d loss: %f\" % (i, l)\n",
      "            \n",
      "        v = np.zeros(X.shape[1])\n",
      "        \n",
      "        for k in range(X.shape[0]):\n",
      "            v += ((Y[k][0] - sigmoid(np.dot(beta, X[k]))) * X[k])\n",
      "            \n",
      "        beta = beta - n * (2 * param * beta - v)\n",
      "        \n",
      "    return (iterations, loss)"
     ],
     "language": "python",
     "metadata": {},
     "outputs": [],
     "prompt_number": 78
    },
    {
     "cell_type": "code",
     "collapsed": false,
     "input": [
      "grad_desc_results = grad_desc_loss(STANDARDIZED_X, Y, 1, 0.00005, 10000)\n",
      "# grad_desc_results = grad_desc_loss(LOG_X, Y, 1, 0.00005, 10000)\n",
      "# grad_desc_results = grad_desc_loss(BINARY_X, Y, 1, 0.00005, 10000)"
     ],
     "language": "python",
     "metadata": {},
     "outputs": [
      {
       "output_type": "stream",
       "stream": "stdout",
       "text": [
        "Iteration 0 loss: 2391.357773\n",
        "Iteration 1000 loss: 707.764864"
       ]
      },
      {
       "output_type": "stream",
       "stream": "stdout",
       "text": [
        "\n",
        "Iteration 2000 loss: 683.997674"
       ]
      },
      {
       "output_type": "stream",
       "stream": "stdout",
       "text": [
        "\n",
        "Iteration 3000 loss: 676.878047"
       ]
      },
      {
       "output_type": "stream",
       "stream": "stdout",
       "text": [
        "\n",
        "Iteration 4000 loss: 673.854358"
       ]
      },
      {
       "output_type": "stream",
       "stream": "stdout",
       "text": [
        "\n",
        "Iteration 5000 loss: 672.377775"
       ]
      },
      {
       "output_type": "stream",
       "stream": "stdout",
       "text": [
        "\n",
        "Iteration 6000 loss: 671.602727"
       ]
      },
      {
       "output_type": "stream",
       "stream": "stdout",
       "text": [
        "\n",
        "Iteration 7000 loss: 671.176870"
       ]
      },
      {
       "output_type": "stream",
       "stream": "stdout",
       "text": [
        "\n",
        "Iteration 8000 loss: 670.934941"
       ]
      },
      {
       "output_type": "stream",
       "stream": "stdout",
       "text": [
        "\n",
        "Iteration 9000 loss: 670.793782"
       ]
      },
      {
       "output_type": "stream",
       "stream": "stdout",
       "text": [
        "\n"
       ]
      }
     ],
     "prompt_number": 131
    },
    {
     "cell_type": "code",
     "collapsed": false,
     "input": [
      "plt.plot(*grad_desc_results)\n",
      "plt.ylim([0,2500])\n",
      "plt.show()"
     ],
     "language": "python",
     "metadata": {},
     "outputs": [],
     "prompt_number": 132
    },
    {
     "cell_type": "heading",
     "level": 2,
     "metadata": {},
     "source": [
      "Problem 3.2"
     ]
    },
    {
     "cell_type": "code",
     "collapsed": false,
     "input": [
      "def sgd_loss(X, Y, param, n, iters):\n",
      "    beta = np.zeros(X.shape[1])\n",
      "    iterations = []\n",
      "    loss = []\n",
      "    \n",
      "    for i in range(iters):\n",
      "        if (i % 1000) == 0:\n",
      "            s = 0.0\n",
      "\n",
      "            for k in range(X.shape[0]):\n",
      "                mu = sigmoid(np.dot(beta, X[k]))\n",
      "                if mu == 0:\n",
      "                    mu = 0.0001\n",
      "                elif mu == 1:\n",
      "                    mu = 0.9999\n",
      "                s += (Y[k][0] * np.log(mu) + (1.0 - Y[k][0]) * np.log(1.0 - mu))\n",
      "\n",
      "            l = param * np.dot(beta, beta) - s\n",
      "            iterations.append(i)\n",
      "            loss.append(l)\n",
      "#             print \"Iteration %d loss: %f\" % (i, l)\n",
      "            \n",
      "        z = np.random.randint(X.shape[0])\n",
      "        v = ((Y[z][0] - sigmoid(np.dot(beta, X[z]))) * X[z])\n",
      "            \n",
      "        beta = beta - n * (2 * param * beta - v)\n",
      "        \n",
      "    return (iterations, loss)"
     ],
     "language": "python",
     "metadata": {},
     "outputs": [],
     "prompt_number": 223
    },
    {
     "cell_type": "code",
     "collapsed": false,
     "input": [
      "sgd_results = sgd_loss(STANDARDIZED_X, Y, 1, 0.001, 100000)\n",
      "# sgd_results = sgd_loss(LOG_X, Y, 1, 0.001, 100000)\n",
      "# sgd_results = sgd_loss(BINARY_X, Y, 1, 0.001, 100000)"
     ],
     "language": "python",
     "metadata": {},
     "outputs": [],
     "prompt_number": 267
    },
    {
     "cell_type": "code",
     "collapsed": false,
     "input": [
      "plt.plot(*sgd_results)\n",
      "plt.ylim([0,2500])\n",
      "plt.show()"
     ],
     "language": "python",
     "metadata": {},
     "outputs": [],
     "prompt_number": 268
    },
    {
     "cell_type": "heading",
     "level": 2,
     "metadata": {},
     "source": [
      "Problem 3.3"
     ]
    },
    {
     "cell_type": "code",
     "collapsed": false,
     "input": [
      "def special_sgd_loss(X, Y, param, n, iters):\n",
      "    beta = np.zeros(X.shape[1])\n",
      "    iterations = []\n",
      "    loss = []\n",
      "    \n",
      "    for i in range(iters):\n",
      "        if (i % 1000) == 0:\n",
      "            s = 0.0\n",
      "\n",
      "            for k in range(X.shape[0]):\n",
      "                mu = sigmoid(np.dot(beta, X[k]))\n",
      "                if mu == 0:\n",
      "                    mu = 0.0001\n",
      "                elif mu == 1:\n",
      "                    mu = 0.9999\n",
      "                s += (Y[k][0] * np.log(mu) + (1.0 - Y[k][0]) * np.log(1.0 - mu))\n",
      "\n",
      "            l = param * np.dot(beta, beta) - s\n",
      "            iterations.append(i)\n",
      "            loss.append(l)\n",
      "#             print \"Iteration %d loss: %f\" % (i, l)\n",
      "            \n",
      "        k = np.random.randint(X.shape[1])\n",
      "        v = ((Y[k][0] - sigmoid(np.dot(beta, X[k]))) * X[k])\n",
      "            \n",
      "        beta = beta - (n / (i + 1)) * (2 * param * beta - v)\n",
      "        \n",
      "    return (iterations, loss)"
     ],
     "language": "python",
     "metadata": {},
     "outputs": [],
     "prompt_number": 240
    },
    {
     "cell_type": "code",
     "collapsed": false,
     "input": [
      "special_sgd_results = special_sgd_loss(STANDARDIZED_X, Y, 1, 0.1, 100000)\n",
      "# special_sgd_results = special_sgd_loss(LOG_X, Y, 1, 0.1, 100000)\n",
      "# special_sgd_results = special_sgd_loss(BINARY_X, Y, 1, 0.1, 100000)"
     ],
     "language": "python",
     "metadata": {},
     "outputs": [],
     "prompt_number": 253
    },
    {
     "cell_type": "code",
     "collapsed": false,
     "input": [
      "plt.plot(*special_sgd_results)\n",
      "plt.ylim([0,2500])\n",
      "plt.show()"
     ],
     "language": "python",
     "metadata": {},
     "outputs": [],
     "prompt_number": 254
    },
    {
     "cell_type": "code",
     "collapsed": false,
     "input": [],
     "language": "python",
     "metadata": {},
     "outputs": []
    }
   ],
   "metadata": {}
  }
 ]
}