{
 "metadata": {
  "name": "",
  "signature": "sha256:5cd003461ce003bf4b10c99d563ff82fba42753c319a5ebc88fec84dc609ed4e"
 },
 "nbformat": 3,
 "nbformat_minor": 0,
 "worksheets": [
  {
   "cells": [
    {
     "cell_type": "heading",
     "level": 1,
     "metadata": {},
     "source": [
      "Problem 2"
     ]
    },
    {
     "cell_type": "code",
     "collapsed": false,
     "input": [
      "import csv\n",
      "import numpy as np\n",
      "\n",
      "X = []\n",
      "Y = []\n",
      "\n",
      "with open('YearPredictionMSD.txt', 'rb') as csvfile:\n",
      "    reader = csv.reader(csvfile, delimiter=',')\n",
      "    for row in reader:\n",
      "        Y.append(row[0])\n",
      "        X.append(row[1:])\n",
      "    \n",
      "X = np.asarray(X, dtype='float')\n",
      "Y = np.asarray(Y, dtype='int')"
     ],
     "language": "python",
     "metadata": {},
     "outputs": [],
     "prompt_number": 33
    },
    {
     "cell_type": "code",
     "collapsed": false,
     "input": [
      "X_TRAIN = X[:463715]\n",
      "X_TEST = X[463715:]\n",
      "\n",
      "Y_TRAIN = Y[:463715]\n",
      "Y_TEST = Y[463715:]"
     ],
     "language": "python",
     "metadata": {},
     "outputs": [],
     "prompt_number": 44
    },
    {
     "cell_type": "heading",
     "level": 2,
     "metadata": {},
     "source": [
      "Problem 2.1"
     ]
    },
    {
     "cell_type": "code",
     "collapsed": false,
     "input": [
      "class linear_reg:\n",
      "    def __init__(self, bias=False):\n",
      "        self.beta = None\n",
      "        self.bias = bias\n",
      "    \n",
      "    def fit(self, X, Y):\n",
      "        if self.bias:\n",
      "            X = np.insert(X, X.shape[1], 1, axis=1)\n",
      "        a = np.dot(X.T, X)\n",
      "        b = np.dot(X.T, Y)\n",
      "        self.beta = np.linalg.solve(a, b)\n",
      "        \n",
      "    def predict(self, X):\n",
      "        if self.bias:\n",
      "            X = np.insert(X, X.shape[1], 1, axis=1)\n",
      "        return np.dot(X, self.beta)\n",
      "        \n",
      "    def RSS(self, X, Y):\n",
      "        if self.bias:\n",
      "            X = np.insert(X, X.shape[1], 1, axis=1)\n",
      "        a = np.dot(X, self.beta) - Y\n",
      "        \n",
      "        return 0.5 * np.dot(a.T, a)"
     ],
     "language": "python",
     "metadata": {},
     "outputs": [],
     "prompt_number": 45
    },
    {
     "cell_type": "code",
     "collapsed": false,
     "input": [
      "classifier = linear_reg(bias=True)\n",
      "classifier.fit(X_TRAIN, Y_TRAIN)"
     ],
     "language": "python",
     "metadata": {},
     "outputs": [],
     "prompt_number": 49
    },
    {
     "cell_type": "heading",
     "level": 2,
     "metadata": {},
     "source": [
      "Problem 2.2"
     ]
    },
    {
     "cell_type": "code",
     "collapsed": false,
     "input": [
      "rss = classifier.RSS(X_TEST, Y_TEST)\n",
      "\n",
      "print \"The RSS of the test set is %f\" % rss"
     ],
     "language": "python",
     "metadata": {},
     "outputs": [
      {
       "output_type": "stream",
       "stream": "stdout",
       "text": [
        "The RSS of the test set is 2334790.089755\n"
       ]
      }
     ],
     "prompt_number": 50
    },
    {
     "cell_type": "code",
     "collapsed": false,
     "input": [
      "predictions = classifier.predict(X_TEST)\n",
      "\n",
      "print \"The range of predicted values go from %d - %d\" % (min(predictions), max(predictions))"
     ],
     "language": "python",
     "metadata": {},
     "outputs": [
      {
       "output_type": "stream",
       "stream": "stdout",
       "text": [
        "The range of predicted values go from 1953 - 2045\n"
       ]
      }
     ],
     "prompt_number": 51
    },
    {
     "cell_type": "heading",
     "level": 2,
     "metadata": {},
     "source": [
      "Problem 2.3"
     ]
    },
    {
     "cell_type": "code",
     "collapsed": false,
     "input": [
      "from pylab import *\n",
      "\n",
      "beta = classifier.beta[0:-1]\n",
      "x = linspace(0, len(beta)-1, len(beta))\n",
      "markerline, stemlines, baseline = stem(x, beta, '-.')\n",
      "setp(markerline, 'markerfacecolor', 'b')\n",
      "setp(baseline, 'color','r', 'linewidth', 2)\n",
      "\n",
      "show()"
     ],
     "language": "python",
     "metadata": {},
     "outputs": [],
     "prompt_number": 60
    },
    {
     "cell_type": "code",
     "collapsed": false,
     "input": [],
     "language": "python",
     "metadata": {},
     "outputs": []
    }
   ],
   "metadata": {}
  }
 ]
}