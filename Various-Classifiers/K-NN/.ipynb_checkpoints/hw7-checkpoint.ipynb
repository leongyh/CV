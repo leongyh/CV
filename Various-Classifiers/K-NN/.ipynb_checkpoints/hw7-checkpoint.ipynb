{
 "metadata": {
  "name": "",
  "signature": "sha256:82a7878adda653d8e666d253f57d6d767b1e44257932f143e940a136df8fb9e9"
 },
 "nbformat": 3,
 "nbformat_minor": 0,
 "worksheets": [
  {
   "cells": [
    {
     "cell_type": "code",
     "collapsed": false,
     "input": [
      "import numpy as np\n",
      "from scipy import io, spatial, misc\n",
      "from matplotlib import pyplot as plt"
     ],
     "language": "python",
     "metadata": {},
     "outputs": [],
     "prompt_number": 1
    },
    {
     "cell_type": "heading",
     "level": 1,
     "metadata": {},
     "source": [
      "Q1.1 K-Means Training"
     ]
    },
    {
     "cell_type": "code",
     "collapsed": false,
     "input": [
      "RAW_MNIST_DATA = io.loadmat('mnist_data/images.mat')\n",
      "MNIST_DATA_IMAGES = np.reshape(RAW_MNIST_DATA['images'], (784, 60000)).transpose().astype(float)"
     ],
     "language": "python",
     "metadata": {},
     "outputs": [],
     "prompt_number": 36
    },
    {
     "cell_type": "code",
     "collapsed": false,
     "input": [
      "class KMeans(object):\n",
      "    def __init__(self, k=10, iters=300, threshold=0.0001):\n",
      "        self.num_clusters = k\n",
      "        self.centroids = {}\n",
      "        self.max_iters = iters\n",
      "        self.threshold = threshold\n",
      "        \n",
      "        for i in range(self.num_clusters):\n",
      "            self.centroids[i] = np.random.choice(256, 784)\n",
      "            \n",
      "    def train(self, data):\n",
      "        iters = 0\n",
      "        prev_J = 0.0\n",
      "        \n",
      "        while iters < self.max_iters:\n",
      "            group = {}\n",
      "            J = 0.0\n",
      "            index = 0\n",
      "            \n",
      "            for s in data:\n",
      "                lowest_dist = 99999.0\n",
      "                lowest_c = -1\n",
      "                \n",
      "                for c in self.centroids:\n",
      "                    centroid = self.centroids[c]\n",
      "                    dist = spatial.distance.euclidean(s, centroid)\n",
      "                    \n",
      "                    if dist < lowest_dist: \n",
      "                        lowest_dist = dist\n",
      "                        lowest_c = c\n",
      "                        \n",
      "                if lowest_c not in group:\n",
      "                    group[lowest_c] = []\n",
      "                \n",
      "                group[lowest_c].append(index)\n",
      "                \n",
      "                index += 1\n",
      "                        \n",
      "            for c in group:\n",
      "                samples = data[group[c]]\n",
      "                new_centroid = np.mean(samples, axis=0)\n",
      "                self.centroids[c] = new_centroid\n",
      "                \n",
      "                for s in samples:\n",
      "                    J += spatial.distance.euclidean(s, new_centroid)\n",
      "                    \n",
      "            if np.absolute(J - prev_J) < self.threshold:\n",
      "                print J\n",
      "                return\n",
      "            else:\n",
      "                prev_J = J\n",
      "                \n",
      "            iters += 1\n",
      "\n",
      "        print \"Loss: %f\" % prev_J"
     ],
     "language": "python",
     "metadata": {},
     "outputs": []
    },
    {
     "cell_type": "code",
     "collapsed": false,
     "input": [
      "km5 = KMeans(5, 30, 1000)\n",
      "km5.train(MNIST_DATA_IMAGES)"
     ],
     "language": "python",
     "metadata": {},
     "outputs": []
    },
    {
     "cell_type": "code",
     "collapsed": false,
     "input": [
      "km10 = KMeans(10, 30, 1000)\n",
      "km10.train(MNIST_DATA_IMAGES)"
     ],
     "language": "python",
     "metadata": {},
     "outputs": []
    },
    {
     "cell_type": "code",
     "collapsed": false,
     "input": [
      "km20 = KMeans(20, 30, 1000)\n",
      "km20.train(MNIST_DATA_IMAGES)"
     ],
     "language": "python",
     "metadata": {},
     "outputs": []
    },
    {
     "cell_type": "heading",
     "level": 1,
     "metadata": {},
     "source": [
      "Q1.2 Visualizing Centroids"
     ]
    },
    {
     "cell_type": "code",
     "collapsed": false,
     "input": [
      "for n in km5.centroids:\n",
      "    misc.imsave('q1_imgs/km5/' + str(n) + '.jpg', km5.centroids[n].reshape(28,28))"
     ],
     "language": "python",
     "metadata": {},
     "outputs": []
    },
    {
     "cell_type": "code",
     "collapsed": false,
     "input": [
      "for n in km10.centroids:\n",
      "    misc.imsave('q1_imgs/km10/' + str(n) + '.jpg', km10.centroids[n].reshape(28,28))"
     ],
     "language": "python",
     "metadata": {},
     "outputs": []
    },
    {
     "cell_type": "code",
     "collapsed": false,
     "input": [
      "for n in km20.centroids:\n",
      "    misc.imsave('q1_imgs/km20/' + str(n) + '.jpg', km20.centroids[n].reshape(28,28))"
     ],
     "language": "python",
     "metadata": {},
     "outputs": []
    },
    {
     "cell_type": "heading",
     "level": 1,
     "metadata": {},
     "source": [
      "Q1.3 Re-initialization"
     ]
    },
    {
     "cell_type": "code",
     "collapsed": false,
     "input": [
      "km10_2 = KMeans(10, 30, 1000)\n",
      "km10_2.train(MNIST_DATA_IMAGES)"
     ],
     "language": "python",
     "metadata": {},
     "outputs": []
    },
    {
     "cell_type": "heading",
     "level": 1,
     "metadata": {},
     "source": [
      "Q2.1 Joke Recommender"
     ]
    },
    {
     "cell_type": "code",
     "collapsed": false,
     "input": [
      "RAW_JOKE_DATA = io.loadmat('joke_data/joke_train.mat')\n",
      "JOKE_TRAIN_DATA = RAW_JOKE_DATA['train']\n",
      "JOKE_VALIDATE_LOC = 'joke_data/validation.txt'"
     ],
     "language": "python",
     "metadata": {},
     "outputs": [],
     "prompt_number": 2
    },
    {
     "cell_type": "heading",
     "level": 1,
     "metadata": {},
     "source": [
      "Q2.2 Warm Up"
     ]
    },
    {
     "cell_type": "code",
     "collapsed": false,
     "input": [
      "class JokeAverage(object):\n",
      "    def __init__(self):\n",
      "        self.averages = None\n",
      "        \n",
      "    def train(self, data):\n",
      "        self.averages = np.nanmean(data, axis=0)\n",
      "        \n",
      "    def predict(self, file_loc):\n",
      "        preds = []\n",
      "        \n",
      "        with open(file_loc) as f:\n",
      "            for line in f:\n",
      "                joke_idx = line.split(',')[1]\n",
      "                avg_rating = self.averages[int(joke_idx) - 1]\n",
      "\n",
      "                if avg_rating > 0:\n",
      "                    preds.append(1)\n",
      "                else:\n",
      "                    preds.append(0)\n",
      "                \n",
      "        return preds\n",
      "\n",
      "    \n",
      "class JokeAdvance(object):\n",
      "    def __init__(self, k=10):\n",
      "        self.k = k\n",
      "\n",
      "    def train(self, data):\n",
      "        self.data = np.nan_to_num(data)\n",
      "\n",
      "    def predict(self, file_loc):\n",
      "        preds = []\n",
      "        users = {}\n",
      "        \n",
      "        with open(file_loc) as f:\n",
      "            for line in f:\n",
      "                user_idx = int(line.split(',')[0]) - 1\n",
      "                joke_idx = int(line.split(',')[1]) - 1\n",
      "                \n",
      "                if user_idx not in users:\n",
      "                    closest = np.empty((self.k, 2))\n",
      "                    closest[:] = 999999\n",
      "                    tar_user_ratings = self.data[user_idx]\n",
      "\n",
      "                    for i in range(self.data.shape[0]):\n",
      "                        if i != user_idx:\n",
      "                            dist = spatial.distance.euclidean(tar_user_ratings, self.data[i])\n",
      "\n",
      "                            if np.amax(closest, axis=0)[0] > dist:\n",
      "                                min_idx = np.argmax(closest, axis=0)[0]\n",
      "                                closest[min_idx] = np.asarray([dist, i])\n",
      "                            \n",
      "                    users[user_idx] = closest[:, 1]\n",
      "\n",
      "                closest_users = self.data[users[user_idx].astype(int)]\n",
      "                averages = np.mean(closest_users, axis=0)\n",
      "                avg_rating = averages[joke_idx]\n",
      "\n",
      "                if avg_rating > 0:\n",
      "                    preds.append(1)\n",
      "                else:\n",
      "                    preds.append(0)\n",
      "\n",
      "        return preds\n",
      "    \n",
      "    \n",
      "def accuracy(pred, file_loc):\n",
      "    hits = 0.0\n",
      "    count = 0\n",
      "    \n",
      "    with open(file_loc) as f:\n",
      "        for line in f:\n",
      "            joke_rate = int(line.split(',')[2])\n",
      "\n",
      "            if pred[count] == joke_rate:\n",
      "                hits += 1.0\n",
      "\n",
      "            count += 1\n",
      "            \n",
      "    print \"Accuracy: %f\" % (hits/count)"
     ],
     "language": "python",
     "metadata": {},
     "outputs": [],
     "prompt_number": 3
    },
    {
     "cell_type": "heading",
     "level": 2,
     "metadata": {},
     "source": [
      "Average Joke Predictor Analysis"
     ]
    },
    {
     "cell_type": "code",
     "collapsed": false,
     "input": [
      "joke_avg_clf = JokeAverage()\n",
      "joke_avg_clf.train(JOKE_TRAIN_DATA)\n",
      "preds = joke_avg_clf.predict(JOKE_VALIDATE_LOC)\n",
      "accuracy(preds, JOKE_VALIDATE_LOC)"
     ],
     "language": "python",
     "metadata": {},
     "outputs": []
    },
    {
     "cell_type": "heading",
     "level": 2,
     "metadata": {},
     "source": [
      "Advance Joke Predictor Analysis"
     ]
    },
    {
     "cell_type": "code",
     "collapsed": false,
     "input": [
      "joke_adv_clf = JokeAdvance(10)\n",
      "joke_adv_clf.train(JOKE_TRAIN_DATA)\n",
      "preds = joke_adv_clf.predict(JOKE_VALIDATE_LOC)\n",
      "accuracy(preds, JOKE_VALIDATE_LOC)"
     ],
     "language": "python",
     "metadata": {},
     "outputs": []
    },
    {
     "cell_type": "code",
     "collapsed": false,
     "input": [
      "joke_adv_clf = JokeAdvance(100)\n",
      "joke_adv_clf.train(JOKE_TRAIN_DATA)\n",
      "preds = joke_adv_clf.predict(JOKE_VALIDATE_LOC)\n",
      "accuracy(preds, JOKE_VALIDATE_LOC)"
     ],
     "language": "python",
     "metadata": {},
     "outputs": []
    },
    {
     "cell_type": "code",
     "collapsed": false,
     "input": [
      "joke_adv_clf = JokeAdvance(1000)\n",
      "joke_adv_clf.train(JOKE_TRAIN_DATA)\n",
      "preds = joke_adv_clf.predict(JOKE_VALIDATE_LOC)\n",
      "accuracy(preds, JOKE_VALIDATE_LOC)"
     ],
     "language": "python",
     "metadata": {},
     "outputs": []
    },
    {
     "cell_type": "heading",
     "level": 1,
     "metadata": {},
     "source": [
      "Q2.3 Latent Factor Model"
     ]
    },
    {
     "cell_type": "code",
     "collapsed": false,
     "input": [
      "def PCA(data, d=10):\n",
      "    k = np.minimum(*data.shape)\n",
      "    \n",
      "    if d > k:\n",
      "        return (None, None)\n",
      "    \n",
      "    data = np.nan_to_num(data)\n",
      "    data -= np.mean(data, axis=0)\n",
      "    U, S, V_T = np.linalg.svd(data, full_matrices=False)\n",
      "    \n",
      "    SORT_IDX = np.argsort(S)[::-1]\n",
      "    U = U[:, SORT_IDX]\n",
      "    S = np.diag(S[SORT_IDX])\n",
      "    V = V_T.T[:, SORT_IDX]\n",
      "    \n",
      "    u = np.dot(U[:, :d], np.sqrt(S[:d, :d]))\n",
      "    v = np.dot(np.sqrt(S[:d, :d]), V[:, :d].T)\n",
      "    \n",
      "    return (u, v)\n",
      "\n",
      "\n",
      "def MSE(data, d=10):\n",
      "    u, v = PCA(data, d)\n",
      "    \n",
      "    if u is None or v is None:\n",
      "        print \"Bad d!\"\n",
      "        return\n",
      "    \n",
      "    MSE = np.nansum((np.dot(u, v) - data)**2)\n",
      "    \n",
      "    return MSE\n",
      "\n",
      "\n",
      "def MSEBetter(data, u, v, c=0.1):\n",
      "    MSE = np.nansum((np.dot(u, v) - data)**2) + c * (np.sum(np.multiply(u, u)) + np.sum(np.multiply(v, v)))\n",
      "    \n",
      "    MSE_du = 2 * (np.dot((np.nan_to_num(np.dot(u, v) - JOKE_TRAIN_DATA)), v.T) + c * u)\n",
      "    MSE_dv = 2 * (np.dot(u.T, np.nan_to_num((np.dot(u, v) - JOKE_TRAIN_DATA))) + c * v)\n",
      "    \n",
      "    return (MSE, MSE_du, MSE_dv)\n",
      "\n",
      "\n",
      "class JokePredictor(object):\n",
      "    def __init__(self, k=10):\n",
      "        self.k = k\n",
      "        self.u = None\n",
      "        self.v = None\n",
      "\n",
      "    def train(self, data):\n",
      "        self.u, self.v = PCA(data, self.k)\n",
      "        \n",
      "        if self.u is None or self.v is None:\n",
      "            print \"Bad d!\"\n",
      "            return\n",
      "        \n",
      "    def predict(self, file_loc):\n",
      "        preds = []\n",
      "        users = {}\n",
      "        \n",
      "        with open(file_loc) as f:\n",
      "            for line in f:\n",
      "                user_idx = int(line.split(',')[0]) - 1\n",
      "                joke_idx = int(line.split(',')[1]) - 1\n",
      "                \n",
      "                pred_rating = np.dot(self.u[user_idx, :], self.v[:, joke_idx])\n",
      "                \n",
      "                if pred_rating > 0:\n",
      "                    preds.append(1)\n",
      "                else:\n",
      "                    preds.append(0)\n",
      "\n",
      "        return preds\n",
      "    \n",
      "    \n",
      "class JokePredictorBetter(object):\n",
      "    def __init__(self, k=10):\n",
      "        self.k = k\n",
      "        self.u = None\n",
      "        self.v = None\n",
      "\n",
      "    def train(self, data, rate=0.1, c=0.1, threshold=100, method='gradient_descent'):\n",
      "        self.u, self.v = PCA(data, self.k)\n",
      "        \n",
      "        if self.u is None or self.v is None:\n",
      "            print \"Bad d!\"\n",
      "            return\n",
      "        \n",
      "        prev_MSE = 0.0\n",
      "        u_or_v = 0\n",
      "        iters = 0\n",
      "        \n",
      "        if method == 'gradient_descent':\n",
      "            while True:\n",
      "                MSE, MSE_du, MSE_dv = MSEBetter(data, self.u, self.v, c)\n",
      "\n",
      "                if np.fabs(prev_MSE - MSE) > threshold:\n",
      "                    self.u -= rate * MSE_du\n",
      "                    self.v -= rate * MSE_dv\n",
      "                    prev_MSE = MSE\n",
      "                    iters += 1\n",
      "\n",
      "                else:\n",
      "                    print \"Converged! Iterations:%d, Loss: %f\" % (iters, MSE)\n",
      "                    return\n",
      "\n",
      "                if iters % 100 == 0:\n",
      "                    print \"Iteration #%d, Loss: %f\" % (iters, MSE)\n",
      "                    \n",
      "        elif method == 'als':\n",
      "            while True:\n",
      "                MSE, MSE_du, MSE_dv = MSEBetter(data, self.u, self.v, c)\n",
      "\n",
      "                if np.fabs(prev_MSE - MSE) > threshold:\n",
      "                    if u_or_v == 0:\n",
      "                        self.u -= rate * MSE_du\n",
      "                        prev_MSE = MSE\n",
      "                        iters += 1\n",
      "                        u_or_v = 1\n",
      "                    \n",
      "                    elif u_or_v == 1:\n",
      "                        self.v -= rate * MSE_dv\n",
      "                        prev_MSE = MSE\n",
      "                        iters += 1\n",
      "                        u_or_v = 0\n",
      "\n",
      "                else:\n",
      "                    print \"Converged! Iterations:%d, Loss: %f\" % (iters, MSE)\n",
      "                    return\n",
      "\n",
      "                if iters % 100 == 0:\n",
      "                    print \"Iteration #%d, Loss: %f\" % (iters, MSE)\n",
      "                    \n",
      "        else:\n",
      "            print \"Unrecognized method!\"\n",
      "            return\n",
      "        \n",
      "        \n",
      "    def predict(self, file_loc):\n",
      "        preds = []\n",
      "        \n",
      "        with open(file_loc) as f:\n",
      "            for line in f:\n",
      "                user_idx = int(line.split(',')[0]) - 1\n",
      "                joke_idx = int(line.split(',')[1]) - 1\n",
      "                \n",
      "                pred_rating = np.dot(self.u[user_idx, :], self.v[:, joke_idx])\n",
      "                \n",
      "                if pred_rating > 0:\n",
      "                    preds.append(1)\n",
      "                else:\n",
      "                    preds.append(0)\n",
      "\n",
      "        return preds\n",
      "    \n",
      "    \n",
      "    def predict_kaggle(self, file_loc):\n",
      "        preds =[]\n",
      "        \n",
      "        with open(file_loc) as f:\n",
      "            for line in f:\n",
      "                user_idx = int(line.split(',')[0]) - 1\n",
      "                joke_idx = int(line.split(',')[1]) - 1\n",
      "                \n",
      "                pred_rating = np.dot(self.u[user_idx, :], self.v[:, joke_idx])\n",
      "                \n",
      "                if pred_rating > 0:\n",
      "                    preds.append([user_idx, joke_idx, 1])\n",
      "                else:\n",
      "                    preds.append([user_idx, joke_idx, 0])\n",
      "\n",
      "        return preds"
     ],
     "language": "python",
     "metadata": {},
     "outputs": [],
     "prompt_number": 148
    },
    {
     "cell_type": "heading",
     "level": 1,
     "metadata": {},
     "source": [
      "Q2.3.2 MSE Analysis"
     ]
    },
    {
     "cell_type": "code",
     "collapsed": false,
     "input": [
      "d=2\n",
      "mse = MSE(JOKE_TRAIN_DATA, d)\n",
      "print \"MSE where d=%d: %f\" % (d, mse)\n",
      "\n",
      "joke_mse_clf = JokePredictor(d)\n",
      "joke_mse_clf.train(JOKE_TRAIN_DATA)\n",
      "preds = joke_mse_clf.predict(JOKE_VALIDATE_LOC)\n",
      "accuracy(preds, JOKE_VALIDATE_LOC)"
     ],
     "language": "python",
     "metadata": {},
     "outputs": [
      {
       "output_type": "stream",
       "stream": "stdout",
       "text": [
        "MSE where d=2: 20244007.340987\n",
        "Accuracy: 0.647696"
       ]
      },
      {
       "output_type": "stream",
       "stream": "stdout",
       "text": [
        "\n"
       ]
      }
     ],
     "prompt_number": 103
    },
    {
     "cell_type": "code",
     "collapsed": false,
     "input": [
      "d=5\n",
      "mse = MSE(JOKE_TRAIN_DATA, d)\n",
      "print \"MSE where d=%d: %f\" % (d, mse)\n",
      "\n",
      "joke_mse_clf = JokePredictor(d)\n",
      "joke_mse_clf.train(JOKE_TRAIN_DATA)\n",
      "preds = joke_mse_clf.predict(JOKE_VALIDATE_LOC)\n",
      "accuracy(preds, JOKE_VALIDATE_LOC)"
     ],
     "language": "python",
     "metadata": {},
     "outputs": [
      {
       "ename": "KeyboardInterrupt",
       "evalue": "",
       "output_type": "pyerr",
       "traceback": [
        "\u001b[1;31m---------------------------------------------------------------------------\u001b[0m\n\u001b[1;31mKeyboardInterrupt\u001b[0m                         Traceback (most recent call last)",
        "\u001b[1;32m<ipython-input-100-65e1ea876b30>\u001b[0m in \u001b[0;36m<module>\u001b[1;34m()\u001b[0m\n\u001b[0;32m      1\u001b[0m \u001b[0md\u001b[0m\u001b[1;33m=\u001b[0m\u001b[1;36m5\u001b[0m\u001b[1;33m\u001b[0m\u001b[0m\n\u001b[1;32m----> 2\u001b[1;33m \u001b[0mmse\u001b[0m \u001b[1;33m=\u001b[0m \u001b[0mMSE\u001b[0m\u001b[1;33m(\u001b[0m\u001b[0mJOKE_TRAIN_DATA\u001b[0m\u001b[1;33m,\u001b[0m \u001b[0md\u001b[0m\u001b[1;33m)\u001b[0m\u001b[1;33m\u001b[0m\u001b[0m\n\u001b[0m\u001b[0;32m      3\u001b[0m \u001b[1;32mprint\u001b[0m \u001b[1;34m\"MSE where d=%d: %f\"\u001b[0m \u001b[1;33m%\u001b[0m \u001b[1;33m(\u001b[0m\u001b[0md\u001b[0m\u001b[1;33m,\u001b[0m \u001b[0mmse\u001b[0m\u001b[1;33m)\u001b[0m\u001b[1;33m\u001b[0m\u001b[0m\n\u001b[0;32m      4\u001b[0m \u001b[1;33m\u001b[0m\u001b[0m\n\u001b[0;32m      5\u001b[0m \u001b[0mjoke_mse_clf\u001b[0m \u001b[1;33m=\u001b[0m \u001b[0mJokePredictor\u001b[0m\u001b[1;33m(\u001b[0m\u001b[0md\u001b[0m\u001b[1;33m)\u001b[0m\u001b[1;33m\u001b[0m\u001b[0m\n",
        "\u001b[1;32m<ipython-input-98-1b2733b4e08a>\u001b[0m in \u001b[0;36mMSE\u001b[1;34m(data, d)\u001b[0m\n\u001b[0;32m     27\u001b[0m         \u001b[1;32mreturn\u001b[0m\u001b[1;33m\u001b[0m\u001b[0m\n\u001b[0;32m     28\u001b[0m \u001b[1;33m\u001b[0m\u001b[0m\n\u001b[1;32m---> 29\u001b[1;33m     \u001b[0mMSE\u001b[0m \u001b[1;33m=\u001b[0m \u001b[0mnp\u001b[0m\u001b[1;33m.\u001b[0m\u001b[0mnansum\u001b[0m\u001b[1;33m(\u001b[0m\u001b[1;33m(\u001b[0m\u001b[0mnp\u001b[0m\u001b[1;33m.\u001b[0m\u001b[0mdot\u001b[0m\u001b[1;33m(\u001b[0m\u001b[0mu\u001b[0m\u001b[1;33m,\u001b[0m \u001b[0mv\u001b[0m\u001b[1;33m)\u001b[0m \u001b[1;33m-\u001b[0m \u001b[0mdata\u001b[0m\u001b[1;33m)\u001b[0m\u001b[1;33m**\u001b[0m\u001b[1;36m2\u001b[0m\u001b[1;33m)\u001b[0m\u001b[1;33m\u001b[0m\u001b[0m\n\u001b[0m\u001b[0;32m     30\u001b[0m \u001b[1;33m\u001b[0m\u001b[0m\n\u001b[0;32m     31\u001b[0m     \u001b[1;32mreturn\u001b[0m \u001b[0mMSE\u001b[0m\u001b[1;33m\u001b[0m\u001b[0m\n",
        "\u001b[1;31mKeyboardInterrupt\u001b[0m: "
       ]
      }
     ],
     "prompt_number": 100
    },
    {
     "cell_type": "code",
     "collapsed": false,
     "input": [
      "d=10\n",
      "mse = MSE(JOKE_TRAIN_DATA, d)\n",
      "print \"MSE where d=%d: %f\" % (d, mse)\n",
      "\n",
      "joke_mse_clf = JokePredictor(d)\n",
      "joke_mse_clf.train(JOKE_TRAIN_DATA)\n",
      "preds = joke_mse_clf.predict(JOKE_VALIDATE_LOC)\n",
      "accuracy(preds, JOKE_VALIDATE_LOC)"
     ],
     "language": "python",
     "metadata": {},
     "outputs": [
      {
       "output_type": "stream",
       "stream": "stdout",
       "text": [
        "MSE where d=10: 15907077.763049\n",
        "Accuracy: 0.652033"
       ]
      },
      {
       "output_type": "stream",
       "stream": "stdout",
       "text": [
        "\n"
       ]
      }
     ],
     "prompt_number": 70
    },
    {
     "cell_type": "code",
     "collapsed": false,
     "input": [
      "d=20\n",
      "mse = MSE(JOKE_TRAIN_DATA, d)\n",
      "print \"MSE where d=%d: %f\" % (d, mse)\n",
      "\n",
      "joke_mse_clf = JokePredictor(d)\n",
      "joke_mse_clf.train(JOKE_TRAIN_DATA)\n",
      "preds = joke_mse_clf.predict(JOKE_VALIDATE_LOC)\n",
      "accuracy(preds, JOKE_VALIDATE_LOC)"
     ],
     "language": "python",
     "metadata": {},
     "outputs": [
      {
       "output_type": "stream",
       "stream": "stdout",
       "text": [
        "MSE where d=20: 12785614.908610\n",
        "Accuracy: 0.628455"
       ]
      },
      {
       "output_type": "stream",
       "stream": "stdout",
       "text": [
        "\n"
       ]
      }
     ],
     "prompt_number": 71
    },
    {
     "cell_type": "heading",
     "level": 1,
     "metadata": {},
     "source": [
      "Q2.3.3 Better Joke Predictor Analysis"
     ]
    },
    {
     "cell_type": "code",
     "collapsed": false,
     "input": [
      "d=20\n",
      "joke_better_clf = JokePredictorBetter(d)\n",
      "joke_better_clf.train(JOKE_TRAIN_DATA, 0.0001, 100, 0.1, 'gradient_descent')"
     ],
     "language": "python",
     "metadata": {},
     "outputs": [
      {
       "ename": "KeyboardInterrupt",
       "evalue": "",
       "output_type": "pyerr",
       "traceback": [
        "\u001b[1;31m---------------------------------------------------------------------------\u001b[0m\n\u001b[1;31mKeyboardInterrupt\u001b[0m                         Traceback (most recent call last)",
        "\u001b[1;32m<ipython-input-141-5b1a5599a5f5>\u001b[0m in \u001b[0;36m<module>\u001b[1;34m()\u001b[0m\n\u001b[0;32m      1\u001b[0m \u001b[0md\u001b[0m\u001b[1;33m=\u001b[0m\u001b[1;36m20\u001b[0m\u001b[1;33m\u001b[0m\u001b[0m\n\u001b[0;32m      2\u001b[0m \u001b[0mjoke_better_clf\u001b[0m \u001b[1;33m=\u001b[0m \u001b[0mJokePredictorBetter\u001b[0m\u001b[1;33m(\u001b[0m\u001b[0md\u001b[0m\u001b[1;33m)\u001b[0m\u001b[1;33m\u001b[0m\u001b[0m\n\u001b[1;32m----> 3\u001b[1;33m \u001b[0mjoke_better_clf\u001b[0m\u001b[1;33m.\u001b[0m\u001b[0mtrain\u001b[0m\u001b[1;33m(\u001b[0m\u001b[0mJOKE_TRAIN_DATA\u001b[0m\u001b[1;33m,\u001b[0m \u001b[1;36m0.0001\u001b[0m\u001b[1;33m,\u001b[0m \u001b[1;36m100\u001b[0m\u001b[1;33m,\u001b[0m \u001b[1;36m0.1\u001b[0m\u001b[1;33m,\u001b[0m \u001b[1;34m'gradient_descent'\u001b[0m\u001b[1;33m)\u001b[0m\u001b[1;33m\u001b[0m\u001b[0m\n\u001b[0m",
        "\u001b[1;32m<ipython-input-140-078069a8497d>\u001b[0m in \u001b[0;36mtrain\u001b[1;34m(self, data, rate, c, threshold, method)\u001b[0m\n\u001b[0;32m     92\u001b[0m         \u001b[1;32mif\u001b[0m \u001b[0mmethod\u001b[0m \u001b[1;33m==\u001b[0m \u001b[1;34m'gradient_descent'\u001b[0m\u001b[1;33m:\u001b[0m\u001b[1;33m\u001b[0m\u001b[0m\n\u001b[0;32m     93\u001b[0m             \u001b[1;32mwhile\u001b[0m \u001b[0mTrue\u001b[0m\u001b[1;33m:\u001b[0m\u001b[1;33m\u001b[0m\u001b[0m\n\u001b[1;32m---> 94\u001b[1;33m                 \u001b[0mMSE\u001b[0m\u001b[1;33m,\u001b[0m \u001b[0mMSE_du\u001b[0m\u001b[1;33m,\u001b[0m \u001b[0mMSE_dv\u001b[0m \u001b[1;33m=\u001b[0m \u001b[0mMSEBetter\u001b[0m\u001b[1;33m(\u001b[0m\u001b[0mdata\u001b[0m\u001b[1;33m,\u001b[0m \u001b[0mself\u001b[0m\u001b[1;33m.\u001b[0m\u001b[0mu\u001b[0m\u001b[1;33m,\u001b[0m \u001b[0mself\u001b[0m\u001b[1;33m.\u001b[0m\u001b[0mv\u001b[0m\u001b[1;33m,\u001b[0m \u001b[0mc\u001b[0m\u001b[1;33m)\u001b[0m\u001b[1;33m\u001b[0m\u001b[0m\n\u001b[0m\u001b[0;32m     95\u001b[0m \u001b[1;33m\u001b[0m\u001b[0m\n\u001b[0;32m     96\u001b[0m                 \u001b[1;32mif\u001b[0m \u001b[0mnp\u001b[0m\u001b[1;33m.\u001b[0m\u001b[0mfabs\u001b[0m\u001b[1;33m(\u001b[0m\u001b[0mprev_MSE\u001b[0m \u001b[1;33m-\u001b[0m \u001b[0mMSE\u001b[0m\u001b[1;33m)\u001b[0m \u001b[1;33m>\u001b[0m \u001b[0mthreshold\u001b[0m\u001b[1;33m:\u001b[0m\u001b[1;33m\u001b[0m\u001b[0m\n",
        "\u001b[1;32m<ipython-input-140-078069a8497d>\u001b[0m in \u001b[0;36mMSEBetter\u001b[1;34m(data, u, v, c)\u001b[0m\n\u001b[0;32m     35\u001b[0m     \u001b[0mMSE\u001b[0m \u001b[1;33m=\u001b[0m \u001b[0mnp\u001b[0m\u001b[1;33m.\u001b[0m\u001b[0mnansum\u001b[0m\u001b[1;33m(\u001b[0m\u001b[1;33m(\u001b[0m\u001b[0mnp\u001b[0m\u001b[1;33m.\u001b[0m\u001b[0mdot\u001b[0m\u001b[1;33m(\u001b[0m\u001b[0mu\u001b[0m\u001b[1;33m,\u001b[0m \u001b[0mv\u001b[0m\u001b[1;33m)\u001b[0m \u001b[1;33m-\u001b[0m \u001b[0mdata\u001b[0m\u001b[1;33m)\u001b[0m\u001b[1;33m**\u001b[0m\u001b[1;36m2\u001b[0m\u001b[1;33m)\u001b[0m \u001b[1;33m+\u001b[0m \u001b[0mc\u001b[0m \u001b[1;33m*\u001b[0m \u001b[1;33m(\u001b[0m\u001b[0mnp\u001b[0m\u001b[1;33m.\u001b[0m\u001b[0msum\u001b[0m\u001b[1;33m(\u001b[0m\u001b[0mnp\u001b[0m\u001b[1;33m.\u001b[0m\u001b[0mmultiply\u001b[0m\u001b[1;33m(\u001b[0m\u001b[0mu\u001b[0m\u001b[1;33m,\u001b[0m \u001b[0mu\u001b[0m\u001b[1;33m)\u001b[0m\u001b[1;33m)\u001b[0m \u001b[1;33m+\u001b[0m \u001b[0mnp\u001b[0m\u001b[1;33m.\u001b[0m\u001b[0msum\u001b[0m\u001b[1;33m(\u001b[0m\u001b[0mnp\u001b[0m\u001b[1;33m.\u001b[0m\u001b[0mmultiply\u001b[0m\u001b[1;33m(\u001b[0m\u001b[0mv\u001b[0m\u001b[1;33m,\u001b[0m \u001b[0mv\u001b[0m\u001b[1;33m)\u001b[0m\u001b[1;33m)\u001b[0m\u001b[1;33m)\u001b[0m\u001b[1;33m\u001b[0m\u001b[0m\n\u001b[0;32m     36\u001b[0m \u001b[1;33m\u001b[0m\u001b[0m\n\u001b[1;32m---> 37\u001b[1;33m     \u001b[0mMSE_du\u001b[0m \u001b[1;33m=\u001b[0m \u001b[1;36m2\u001b[0m \u001b[1;33m*\u001b[0m \u001b[1;33m(\u001b[0m\u001b[0mnp\u001b[0m\u001b[1;33m.\u001b[0m\u001b[0mdot\u001b[0m\u001b[1;33m(\u001b[0m\u001b[1;33m(\u001b[0m\u001b[0mnp\u001b[0m\u001b[1;33m.\u001b[0m\u001b[0mnan_to_num\u001b[0m\u001b[1;33m(\u001b[0m\u001b[0mnp\u001b[0m\u001b[1;33m.\u001b[0m\u001b[0mdot\u001b[0m\u001b[1;33m(\u001b[0m\u001b[0mu\u001b[0m\u001b[1;33m,\u001b[0m \u001b[0mv\u001b[0m\u001b[1;33m)\u001b[0m \u001b[1;33m-\u001b[0m \u001b[0mJOKE_TRAIN_DATA\u001b[0m\u001b[1;33m)\u001b[0m\u001b[1;33m)\u001b[0m\u001b[1;33m,\u001b[0m \u001b[0mv\u001b[0m\u001b[1;33m.\u001b[0m\u001b[0mT\u001b[0m\u001b[1;33m)\u001b[0m \u001b[1;33m+\u001b[0m \u001b[0mc\u001b[0m \u001b[1;33m*\u001b[0m \u001b[0mu\u001b[0m\u001b[1;33m)\u001b[0m\u001b[1;33m\u001b[0m\u001b[0m\n\u001b[0m\u001b[0;32m     38\u001b[0m     \u001b[0mMSE_dv\u001b[0m \u001b[1;33m=\u001b[0m \u001b[1;36m2\u001b[0m \u001b[1;33m*\u001b[0m \u001b[1;33m(\u001b[0m\u001b[0mnp\u001b[0m\u001b[1;33m.\u001b[0m\u001b[0mdot\u001b[0m\u001b[1;33m(\u001b[0m\u001b[0mu\u001b[0m\u001b[1;33m.\u001b[0m\u001b[0mT\u001b[0m\u001b[1;33m,\u001b[0m \u001b[0mnp\u001b[0m\u001b[1;33m.\u001b[0m\u001b[0mnan_to_num\u001b[0m\u001b[1;33m(\u001b[0m\u001b[1;33m(\u001b[0m\u001b[0mnp\u001b[0m\u001b[1;33m.\u001b[0m\u001b[0mdot\u001b[0m\u001b[1;33m(\u001b[0m\u001b[0mu\u001b[0m\u001b[1;33m,\u001b[0m \u001b[0mv\u001b[0m\u001b[1;33m)\u001b[0m \u001b[1;33m-\u001b[0m \u001b[0mJOKE_TRAIN_DATA\u001b[0m\u001b[1;33m)\u001b[0m\u001b[1;33m)\u001b[0m\u001b[1;33m)\u001b[0m \u001b[1;33m+\u001b[0m \u001b[0mc\u001b[0m \u001b[1;33m*\u001b[0m \u001b[0mv\u001b[0m\u001b[1;33m)\u001b[0m\u001b[1;33m\u001b[0m\u001b[0m\n\u001b[0;32m     39\u001b[0m \u001b[1;33m\u001b[0m\u001b[0m\n",
        "\u001b[1;31mKeyboardInterrupt\u001b[0m: "
       ]
      }
     ],
     "prompt_number": 141
    },
    {
     "cell_type": "code",
     "collapsed": false,
     "input": [
      "preds = joke_better_clf.predict(JOKE_VALIDATE_LOC)\n",
      "accuracy(preds, JOKE_VALIDATE_LOC)"
     ],
     "language": "python",
     "metadata": {},
     "outputs": [
      {
       "output_type": "stream",
       "stream": "stdout",
       "text": [
        "Accuracy: 0.715447\n"
       ]
      }
     ],
     "prompt_number": 139
    },
    {
     "cell_type": "heading",
     "level": 1,
     "metadata": {},
     "source": [
      "Kaggle"
     ]
    },
    {
     "cell_type": "code",
     "collapsed": false,
     "input": [
      "import csv\n",
      "\n",
      "JOKE_KAGGLE_LOC = 'joke_data/query.txt'\n",
      "\n",
      "def save_csv(filename, labels):\n",
      "    with open(filename, 'wb') as csvfile:\n",
      "        writer = csv.writer(csvfile, delimiter=\",\")\n",
      "        writer.writerow([\"user_id\", \"joke_id\", \"prediction\"])\n",
      "        count = 1\n",
      "        \n",
      "        for pred in labels:\n",
      "            writer.writerow(pred)\n",
      "            count += 1\n",
      "            \n",
      "def kaggle(filename, data, model):\n",
      "    pred = model.predict_kaggle(data)\n",
      "    save_csv(filename, pred)"
     ],
     "language": "python",
     "metadata": {},
     "outputs": [],
     "prompt_number": 149
    },
    {
     "cell_type": "code",
     "collapsed": false,
     "input": [
      "kaggle_clf_gd = JokePredictorBetter(20)\n",
      "kaggle_clf_gd.train(JOKE_TRAIN_DATA, 0.0001, 100, 0.1, 'gradient_descent')"
     ],
     "language": "python",
     "metadata": {},
     "outputs": [
      {
       "output_type": "stream",
       "stream": "stdout",
       "text": [
        "Iteration #100, Loss: 10916342.529750\n",
        "Iteration #200, Loss: 10870274.498576"
       ]
      },
      {
       "output_type": "stream",
       "stream": "stdout",
       "text": [
        "\n",
        "Iteration #300, Loss: 10857279.348575"
       ]
      },
      {
       "output_type": "stream",
       "stream": "stdout",
       "text": [
        "\n",
        "Iteration #400, Loss: 10851160.540581"
       ]
      },
      {
       "output_type": "stream",
       "stream": "stdout",
       "text": [
        "\n",
        "Iteration #500, Loss: 10847709.261574"
       ]
      },
      {
       "output_type": "stream",
       "stream": "stdout",
       "text": [
        "\n",
        "Iteration #600, Loss: 10845536.568853"
       ]
      },
      {
       "output_type": "stream",
       "stream": "stdout",
       "text": [
        "\n",
        "Iteration #700, Loss: 10844059.055493"
       ]
      },
      {
       "output_type": "stream",
       "stream": "stdout",
       "text": [
        "\n",
        "Iteration #800, Loss: 10842995.218540"
       ]
      },
      {
       "output_type": "stream",
       "stream": "stdout",
       "text": [
        "\n",
        "Iteration #900, Loss: 10842195.557506"
       ]
      },
      {
       "output_type": "stream",
       "stream": "stdout",
       "text": [
        "\n",
        "Iteration #1000, Loss: 10841574.498749"
       ]
      },
      {
       "output_type": "stream",
       "stream": "stdout",
       "text": [
        "\n",
        "Iteration #1100, Loss: 10841079.880672"
       ]
      },
      {
       "output_type": "stream",
       "stream": "stdout",
       "text": [
        "\n",
        "Iteration #1200, Loss: 10840678.170010"
       ]
      },
      {
       "output_type": "stream",
       "stream": "stdout",
       "text": [
        "\n",
        "Iteration #1300, Loss: 10840346.820302"
       ]
      },
      {
       "output_type": "stream",
       "stream": "stdout",
       "text": [
        "\n",
        "Iteration #1400, Loss: 10840070.084904"
       ]
      },
      {
       "output_type": "stream",
       "stream": "stdout",
       "text": [
        "\n",
        "Iteration #1500, Loss: 10839836.603278"
       ]
      },
      {
       "output_type": "stream",
       "stream": "stdout",
       "text": [
        "\n",
        "Iteration #1600, Loss: 10839637.948632"
       ]
      },
      {
       "output_type": "stream",
       "stream": "stdout",
       "text": [
        "\n",
        "Iteration #1700, Loss: 10839467.721242"
       ]
      },
      {
       "output_type": "stream",
       "stream": "stdout",
       "text": [
        "\n",
        "Iteration #1800, Loss: 10839320.963150"
       ]
      },
      {
       "output_type": "stream",
       "stream": "stdout",
       "text": [
        "\n",
        "Iteration #1900, Loss: 10839193.768205"
       ]
      },
      {
       "output_type": "stream",
       "stream": "stdout",
       "text": [
        "\n",
        "Iteration #2000, Loss: 10839083.014396"
       ]
      },
      {
       "output_type": "stream",
       "stream": "stdout",
       "text": [
        "\n",
        "Iteration #2100, Loss: 10838986.175157"
       ]
      },
      {
       "output_type": "stream",
       "stream": "stdout",
       "text": [
        "\n",
        "Iteration #2200, Loss: 10838901.183284"
       ]
      },
      {
       "output_type": "stream",
       "stream": "stdout",
       "text": [
        "\n",
        "Iteration #2300, Loss: 10838826.330946"
       ]
      },
      {
       "output_type": "stream",
       "stream": "stdout",
       "text": [
        "\n",
        "Iteration #2400, Loss: 10838760.195096"
       ]
      },
      {
       "output_type": "stream",
       "stream": "stdout",
       "text": [
        "\n",
        "Iteration #2500, Loss: 10838701.581109"
       ]
      },
      {
       "output_type": "stream",
       "stream": "stdout",
       "text": [
        "\n",
        "Iteration #2600, Loss: 10838649.479664"
       ]
      },
      {
       "output_type": "stream",
       "stream": "stdout",
       "text": [
        "\n",
        "Iteration #2700, Loss: 10838603.033370"
       ]
      },
      {
       "output_type": "stream",
       "stream": "stdout",
       "text": [
        "\n",
        "Iteration #2800, Loss: 10838561.510593"
       ]
      },
      {
       "output_type": "stream",
       "stream": "stdout",
       "text": [
        "\n",
        "Iteration #2900, Loss: 10838524.284666"
       ]
      },
      {
       "output_type": "stream",
       "stream": "stdout",
       "text": [
        "\n",
        "Iteration #3000, Loss: 10838490.817158"
       ]
      },
      {
       "output_type": "stream",
       "stream": "stdout",
       "text": [
        "\n",
        "Iteration #3100, Loss: 10838460.644249"
       ]
      },
      {
       "output_type": "stream",
       "stream": "stdout",
       "text": [
        "\n",
        "Iteration #3200, Loss: 10838433.365504"
       ]
      },
      {
       "output_type": "stream",
       "stream": "stdout",
       "text": [
        "\n",
        "Iteration #3300, Loss: 10838408.634532"
       ]
      },
      {
       "output_type": "stream",
       "stream": "stdout",
       "text": [
        "\n",
        "Iteration #3400, Loss: 10838386.151172"
       ]
      },
      {
       "output_type": "stream",
       "stream": "stdout",
       "text": [
        "\n",
        "Iteration #3500, Loss: 10838365.654889"
       ]
      },
      {
       "output_type": "stream",
       "stream": "stdout",
       "text": [
        "\n",
        "Iteration #3600, Loss: 10838346.919191"
       ]
      },
      {
       "output_type": "stream",
       "stream": "stdout",
       "text": [
        "\n",
        "Iteration #3700, Loss: 10838329.746874"
       ]
      },
      {
       "output_type": "stream",
       "stream": "stdout",
       "text": [
        "\n",
        "Iteration #3800, Loss: 10838313.965970"
       ]
      },
      {
       "output_type": "stream",
       "stream": "stdout",
       "text": [
        "\n",
        "Iteration #3900, Loss: 10838299.426286"
       ]
      },
      {
       "output_type": "stream",
       "stream": "stdout",
       "text": [
        "\n",
        "Iteration #4000, Loss: 10838285.996437"
       ]
      },
      {
       "output_type": "stream",
       "stream": "stdout",
       "text": [
        "\n",
        "Iteration #4100, Loss: 10838273.561307"
       ]
      },
      {
       "output_type": "stream",
       "stream": "stdout",
       "text": [
        "\n",
        "Iteration #4200, Loss: 10838262.019869"
       ]
      },
      {
       "output_type": "stream",
       "stream": "stdout",
       "text": [
        "\n",
        "Iteration #4300, Loss: 10838251.283310"
       ]
      },
      {
       "output_type": "stream",
       "stream": "stdout",
       "text": [
        "\n",
        "Converged! Iterations:4351, Loss: 10838245.992041"
       ]
      },
      {
       "output_type": "stream",
       "stream": "stdout",
       "text": [
        "\n"
       ]
      }
     ],
     "prompt_number": 150
    },
    {
     "cell_type": "code",
     "collapsed": false,
     "input": [
      "kaggle('kaggle_submission.txt', JOKE_KAGGLE_LOC, kaggle_clf_gd)"
     ],
     "language": "python",
     "metadata": {},
     "outputs": [],
     "prompt_number": 152
    },
    {
     "cell_type": "code",
     "collapsed": false,
     "input": [
      "kaggle_clf_als = JokePredictorBetter(20)\n",
      "kaggle_clf_als.train(JOKE_TRAIN_DATA, 0.0001, 100, 0.1, 'als')"
     ],
     "language": "python",
     "metadata": {},
     "outputs": []
    },
    {
     "cell_type": "code",
     "collapsed": false,
     "input": [
      "kaggle('kaggle_submission.txt', JOKE_VALIDATE_LOC, kaggle_clf_als)"
     ],
     "language": "python",
     "metadata": {},
     "outputs": []
    },
    {
     "cell_type": "heading",
     "level": 1,
     "metadata": {},
     "source": [
      "Junk|"
     ]
    },
    {
     "cell_type": "code",
     "collapsed": false,
     "input": [
      "u, v = PCA(JOKE_TRAIN_DATA)"
     ],
     "language": "python",
     "metadata": {},
     "outputs": [],
     "prompt_number": 5
    },
    {
     "cell_type": "code",
     "collapsed": false,
     "input": [
      "np.linalg.norm(u, axis=1)"
     ],
     "language": "python",
     "metadata": {},
     "outputs": [
      {
       "metadata": {},
       "output_type": "pyout",
       "prompt_number": 18,
       "text": [
        "array([ 0.01194232,  0.01848622,  0.01391108, ...,  0.01881611,\n",
        "        0.02668348,  0.0188307 ])"
       ]
      }
     ],
     "prompt_number": 18
    },
    {
     "cell_type": "code",
     "collapsed": false,
     "input": [
      "np.sum(np.multiply(u, u))"
     ],
     "language": "python",
     "metadata": {},
     "outputs": [
      {
       "metadata": {},
       "output_type": "pyout",
       "prompt_number": 8,
       "text": [
        "10.000000000000002"
       ]
      }
     ],
     "prompt_number": 8
    },
    {
     "cell_type": "code",
     "collapsed": false,
     "input": [
      "sums= 0.0\n",
      "\n",
      "for i in range(u.shape[0]):\n",
      "    sums += np.dot(u[i], u[i])\n",
      "\n",
      "sums"
     ],
     "language": "python",
     "metadata": {},
     "outputs": [
      {
       "metadata": {},
       "output_type": "pyout",
       "prompt_number": 12,
       "text": [
        "10.000000000000005"
       ]
      }
     ],
     "prompt_number": 12
    },
    {
     "cell_type": "code",
     "collapsed": false,
     "input": [
      "joke_better_clf.train(JOKE_TRAIN_DATA, 0.000001, 10000, 0.1)"
     ],
     "language": "python",
     "metadata": {},
     "outputs": [
      {
       "metadata": {},
       "output_type": "pyout",
       "prompt_number": 58,
       "text": [
        "array([[  3.10547022e-03,   2.16354623e-03,  -6.68699167e-03, ...,\n",
        "         -2.48052736e-03,   2.26247837e-03,  -7.55015212e-03],\n",
        "       [ -7.03971357e-03,   3.44440896e-03,  -5.80844480e-03, ...,\n",
        "          4.79501355e-03,  -1.46242036e-03,   3.05355576e-03],\n",
        "       [  1.72156208e-03,   4.62977513e-03,   3.41376064e-03, ...,\n",
        "         -3.18371403e-04,   5.18293025e-03,  -2.43511782e-03],\n",
        "       ..., \n",
        "       [ -2.12048297e-03,   2.06032835e-03,   6.47407259e-03, ...,\n",
        "         -7.19433378e-03,  -2.16707219e-04,   1.99938277e-03],\n",
        "       [ -8.51511087e-05,   9.85893908e-03,   1.83643752e-02, ...,\n",
        "          5.95090985e-03,   8.73952047e-03,   7.93610849e-03],\n",
        "       [  3.77847382e-03,   3.68033412e-03,   4.34721150e-03, ...,\n",
        "          5.90588418e-03,  -8.42130859e-03,  -2.20403269e-03]])"
       ]
      }
     ],
     "prompt_number": 58
    },
    {
     "cell_type": "code",
     "collapsed": false,
     "input": [
      "v.shape"
     ],
     "language": "python",
     "metadata": {},
     "outputs": [
      {
       "metadata": {},
       "output_type": "pyout",
       "prompt_number": 73,
       "text": [
        "(10, 100)"
       ]
      }
     ],
     "prompt_number": 73
    },
    {
     "cell_type": "code",
     "collapsed": false,
     "input": [
      "JOKE_TRAIN_DATA.shape"
     ],
     "language": "python",
     "metadata": {},
     "outputs": [
      {
       "metadata": {},
       "output_type": "pyout",
       "prompt_number": 34,
       "text": [
        "(24983, 100)"
       ]
      }
     ],
     "prompt_number": 34
    },
    {
     "cell_type": "code",
     "collapsed": false,
     "input": [
      "(np.dot(u, v) - JOKE_TRAIN_DATA)"
     ],
     "language": "python",
     "metadata": {},
     "outputs": [
      {
       "metadata": {},
       "output_type": "pyout",
       "prompt_number": 43,
       "text": [
        "array([[        nan,         nan,         nan, ...,         nan,\n",
        "                nan,         nan],\n",
        "       [ 0.89060383, -0.29514355,         nan, ..., -3.08310451,\n",
        "                nan,         nan],\n",
        "       [        nan,         nan,         nan, ...,         nan,\n",
        "                nan,         nan],\n",
        "       ..., \n",
        "       [-4.17746978,  6.81707465,         nan, ..., -1.58874756,\n",
        "                nan,         nan],\n",
        "       [        nan, -4.97668406,         nan, ..., -5.43342679,\n",
        "                nan,         nan],\n",
        "       [-4.71574632,  0.34181849, -1.55302504, ...,         nan,\n",
        "                nan,         nan]])"
       ]
      }
     ],
     "prompt_number": 43
    },
    {
     "cell_type": "code",
     "collapsed": false,
     "input": [
      "np.dot((np.dot(u, v) - JOKE_TRAIN_DATA), v.T)"
     ],
     "language": "python",
     "metadata": {},
     "outputs": [
      {
       "metadata": {},
       "output_type": "pyout",
       "prompt_number": 44,
       "text": [
        "array([[ nan,  nan,  nan, ...,  nan,  nan,  nan],\n",
        "       [ nan,  nan,  nan, ...,  nan,  nan,  nan],\n",
        "       [ nan,  nan,  nan, ...,  nan,  nan,  nan],\n",
        "       ..., \n",
        "       [ nan,  nan,  nan, ...,  nan,  nan,  nan],\n",
        "       [ nan,  nan,  nan, ...,  nan,  nan,  nan],\n",
        "       [ nan,  nan,  nan, ...,  nan,  nan,  nan]])"
       ]
      }
     ],
     "prompt_number": 44
    },
    {
     "cell_type": "code",
     "collapsed": false,
     "input": [
      "np.dot(u.T, (np.dot(u, v) - JOKE_TRAIN_DATA)).shape"
     ],
     "language": "python",
     "metadata": {},
     "outputs": [
      {
       "metadata": {},
       "output_type": "pyout",
       "prompt_number": 20,
       "text": [
        "(10, 100)"
       ]
      }
     ],
     "prompt_number": 20
    },
    {
     "cell_type": "code",
     "collapsed": false,
     "input": [
      "(2*(np.dot((np.nan_to_num(JOKE_TRAIN_DATA) - np.dot(u, v)), v.T) - 1000000 * u))"
     ],
     "language": "python",
     "metadata": {},
     "outputs": [
      {
       "metadata": {},
       "output_type": "pyout",
       "prompt_number": 66,
       "text": [
        "array([[  6775.02194389,   3783.78809605,  14934.45588097, ...,\n",
        "          6544.64042292,  -4535.54883224,  16352.8824546 ],\n",
        "       [ 27065.3895156 ,   1222.06263789,  13177.36215026, ...,\n",
        "         -8006.44137982,   2914.24862552,  -4854.53331323],\n",
        "       [  9542.83820801,  -1148.66971019,  -5267.04872673, ...,\n",
        "          2220.32851898, -10376.45259068,   6122.81386372],\n",
        "       ..., \n",
        "       [ 17226.92830695,   3990.22384547, -11387.6726244 , ...,\n",
        "         15972.25326908,    422.82234993,  -2746.187329  ],\n",
        "       [ 13156.26459216, -11606.99761025, -35168.27784849, ...,\n",
        "        -10318.23399474, -17489.63303027, -14619.63876382],\n",
        "       [  5429.01474073,    750.21231676,  -7133.95045925, ...,\n",
        "        -10228.18265075,  16832.02508659,   5660.64359133]])"
       ]
      }
     ],
     "prompt_number": 66
    },
    {
     "cell_type": "code",
     "collapsed": false,
     "input": [],
     "language": "python",
     "metadata": {},
     "outputs": []
    }
   ],
   "metadata": {}
  }
 ]
}