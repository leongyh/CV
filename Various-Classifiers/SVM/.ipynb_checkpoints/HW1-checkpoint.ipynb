{
 "metadata": {
  "name": "",
  "signature": "sha256:2acd46e9a68290a8d3cfb8ae1c843e850da0d3a81c15c54db95ad8336ab23ee0"
 },
 "nbformat": 3,
 "nbformat_minor": 0,
 "worksheets": [
  {
   "cells": [
    {
     "cell_type": "heading",
     "level": 1,
     "metadata": {},
     "source": [
      "Homework 1"
     ]
    },
    {
     "cell_type": "code",
     "collapsed": false,
     "input": [
      "from sklearn import svm, metrics\n",
      "from scipy import io\n",
      "import numpy as np\n",
      "\n",
      "import matplotlib.pyplot as plt\n",
      "\n",
      "RAW_DATA_DIGITS_TRAIN = io.loadmat('data/digit-dataset/train.mat')\n",
      "\n",
      "RAW_DATA_SPAM = io.loadmat('data/spam-dataset/spam_data.mat')"
     ],
     "language": "python",
     "metadata": {},
     "outputs": [],
     "prompt_number": 1
    },
    {
     "cell_type": "heading",
     "level": 2,
     "metadata": {},
     "source": [
      "Problem 1"
     ]
    },
    {
     "cell_type": "code",
     "collapsed": false,
     "input": [
      "# Process raw data and concat images to single feature vector\n",
      "flatten_p1 = np.reshape(RAW_DATA_DIGITS_TRAIN['train_images'], (784, 60000)).transpose()\n",
      "\n",
      "# Retrieve labels\n",
      "labels_p1 = np.ravel(RAW_DATA_DIGITS_TRAIN['train_labels'])\n",
      "\n",
      "# Randomly pick training data and validation data (10k + 10k)\n",
      "choices_p1 = np.random.choice(60000, 20000, replace=False)\n",
      "\n",
      "# Validation set\n",
      "val_set_p1 = np.asarray([flatten_p1[i] for i in choices_p1[10000:]])\n",
      "val_labels_p1 = np.asarray([labels_p1[i] for i in choices_p1[10000:]])"
     ],
     "language": "python",
     "metadata": {},
     "outputs": [],
     "prompt_number": 2
    },
    {
     "cell_type": "code",
     "collapsed": false,
     "input": [
      "# SVM Classfier returns a SVM classifier object\n",
      "# data: training data set\n",
      "# labels: labels coresponding to dataset\n",
      "# n: train sample size\n",
      "def svm_classifier(data, labels, n):\n",
      "    X = np.asarray([data[choices_p1[i]] for i in range(n)])\n",
      "    y = np.asarray([labels[choices_p1[i]] for i in range(n)])\n",
      "    clf = svm.LinearSVC()\n",
      "    clf.fit(X, y)\n",
      "    \n",
      "    return clf\n",
      "\n",
      "# Accuracy function returning accuracy float\n",
      "# clf: classifier to predict\n",
      "# validaton_set: validaton data set\n",
      "# ground_truth: true predicted labels\n",
      "def accuracy(clf, validation_set, ground_truth):\n",
      "    pred = clf.predict(validation_set)\n",
      "    acc = metrics.accuracy_score(ground_truth, pred)\n",
      "\n",
      "    return acc\n",
      "\n",
      "# Test for problem 1\n",
      "# n: training sample size\n",
      "def test_p1(n):\n",
      "    acc = accuracy(svm_classifier(flatten_p1, labels_p1, n), val_set_p1, val_labels_p1)\n",
      "    \n",
      "    print \"The accuracy for %d training samples is: %f\" % (n, acc)\n",
      "    \n",
      "test_p1(100)"
     ],
     "language": "python",
     "metadata": {},
     "outputs": [
      {
       "output_type": "stream",
       "stream": "stdout",
       "text": [
        "The accuracy for 100 training samples is: 0.634200\n"
       ]
      }
     ],
     "prompt_number": 3
    },
    {
     "cell_type": "heading",
     "level": 2,
     "metadata": {},
     "source": [
      "Problem 2"
     ]
    },
    {
     "cell_type": "code",
     "collapsed": false,
     "input": [
      "# Generates a confusion matrix\n",
      "# clf: classifier to predict\n",
      "# validaton_set: validaton data set\n",
      "# ground_truth: true predicted labels\n",
      "def svm_confusion_matrix(clf, validation_set, ground_truth):\n",
      "    pred = clf.predict(validation_set)\n",
      "    cm = metrics.confusion_matrix(ground_truth, pred)\n",
      "    \n",
      "    return cm\n",
      "\n",
      "# Test for problem 2\n",
      "# n: training sample size\n",
      "def test_p2(n):\n",
      "    cm = svm_confusion_matrix(svm_classifier(flatten_p1, labels_p1, n), val_set_p1, val_labels_p1)\n",
      "    \n",
      "    plt.matshow(cm)\n",
      "    plt.title('Confusion matrix')\n",
      "    plt.colorbar()\n",
      "    plt.ylabel('True label')\n",
      "    plt.xlabel('Predicted label')\n",
      "    plt.show()\n",
      "    \n",
      "test_p2(100)"
     ],
     "language": "python",
     "metadata": {},
     "outputs": [],
     "prompt_number": 4
    },
    {
     "cell_type": "heading",
     "level": 2,
     "metadata": {},
     "source": [
      "Problem 3"
     ]
    },
    {
     "cell_type": "code",
     "collapsed": false,
     "input": [
      "# Randomly pick training data and cross validation data (10k)\n",
      "choices_p3 = np.random.choice(60000, 10000, replace=False)\n",
      "train_data_p3 = np.asarray([flatten_p1[i] for i in choices_p3])\n",
      "labels_p3 = np.asarray([labels_p1[i] for i in choices_p3])"
     ],
     "language": "python",
     "metadata": {},
     "outputs": [],
     "prompt_number": 29
    },
    {
     "cell_type": "code",
     "collapsed": false,
     "input": [
      "def svm_cross_validate_10fold(dataset, labels, c_):\n",
      "    acc = 0.0\n",
      "    \n",
      "    for i in range(10):\n",
      "        X = np.concatenate((dataset[:(i*10000)/10], dataset[((i+1)*10000)/10:]))\n",
      "        y = np.concatenate((labels[:(i*10000)/10], labels[((i+1)*10000)/10:]))\n",
      "        X_val = dataset[(i*10000)/10:((i+1)*10000)/10]\n",
      "        y_truth = labels[(i*10000)/10:((i+1)*10000)/10]\n",
      "        \n",
      "        clf = svm.LinearSVC(C=c_)\n",
      "        clf.fit(X, y)\n",
      "        acc += accuracy(clf, X_val, y_truth)\n",
      "        \n",
      "    return acc / 10.0\n",
      "\n",
      "# c: C value of SVM param\n",
      "def test_p3(c):\n",
      "    print \"The accuracy of a 10-fold cross validation of a 10k sized dataset with parameter C = %g is: %f\" % (c, svm_cross_validate_10fold(train_data_p3, labels_p3, c))\n",
      "    \n",
      "test_p3(0.0000001)"
     ],
     "language": "python",
     "metadata": {},
     "outputs": [
      {
       "output_type": "stream",
       "stream": "stdout",
       "text": [
        "The accuracy of a 10-fold cross validation of a 10k sized dataset with parameter C = 1e-07 is: 0.857100\n"
       ]
      }
     ],
     "prompt_number": 30
    },
    {
     "cell_type": "heading",
     "level": 2,
     "metadata": {},
     "source": [
      "Problem 4"
     ]
    },
    {
     "cell_type": "code",
     "collapsed": false,
     "input": [
      "# Process raw data to training feature vector\n",
      "training_data_p4 = RAW_DATA_SPAM['training_data']\n",
      "\n",
      "# Retrieve labels\n",
      "labels_p4 = RAW_DATA_SPAM['training_labels'][0]"
     ],
     "language": "python",
     "metadata": {},
     "outputs": [],
     "prompt_number": 5
    },
    {
     "cell_type": "code",
     "collapsed": false,
     "input": [
      "def svm_cross_validate_email(dataset, labels, n, c_):\n",
      "    acc = 0.0\n",
      "    \n",
      "    for i in range(10):\n",
      "        X = np.concatenate((dataset[:(i*n)/10], dataset[((i+1)*n)/10:]))\n",
      "        y = np.concatenate((labels[:(i*n)/10], labels[((i+1)*n)/10:]))\n",
      "        X_val = dataset[(i*n)/10:((i+1)*n)/10]\n",
      "        y_truth = labels[(i*n)/10:((i+1)*n)/10]\n",
      "        \n",
      "        clf = svm.LinearSVC(C=c_)\n",
      "        clf.fit(X, y)\n",
      "        acc += accuracy(clf, X_val, y_truth)\n",
      "        \n",
      "    return acc / 10.0\n",
      "\n",
      "# c: C value of SVM param\n",
      "def test_p4(c):\n",
      "    print \"The accuracy of a 10-fold cross validation with parameter C = %g is: %f\" % (c, svm_cross_validate_email(training_data_p4, labels_p4, len(labels_p4), c))\n",
      "    \n",
      "test_p4(10)"
     ],
     "language": "python",
     "metadata": {},
     "outputs": [
      {
       "output_type": "stream",
       "stream": "stdout",
       "text": [
        "The accuracy of a 10-fold cross validation with parameter C = 10 is: 0.786099\n"
       ]
      }
     ],
     "prompt_number": 21
    },
    {
     "cell_type": "heading",
     "level": 2,
     "metadata": {},
     "source": [
      "Kaggle"
     ]
    },
    {
     "cell_type": "code",
     "collapsed": false,
     "input": [
      "import csv\n",
      "\n",
      "RAW_DATA_DIGITS_TEST = io.loadmat('data/digit-dataset/test.mat')\n",
      "RAW_DATA_SPAM_TEST = RAW_DATA_SPAM['test_data']\n",
      "\n",
      "digits_test = np.reshape(RAW_DATA_DIGITS_TEST['test_images'], (784, 10000)).transpose()\n",
      "spam_test = RAW_DATA_SPAM_TEST"
     ],
     "language": "python",
     "metadata": {},
     "outputs": [
      {
       "metadata": {},
       "output_type": "pyout",
       "prompt_number": 45,
       "text": [
        "array([[ 0.,  0.,  0., ...,  0.,  0.,  0.],\n",
        "       [ 0.,  0.,  0., ...,  0.,  0.,  0.],\n",
        "       [ 0.,  0.,  0., ...,  0.,  0.,  0.],\n",
        "       ..., \n",
        "       [ 0.,  0.,  0., ...,  0.,  0.,  0.],\n",
        "       [ 0.,  0.,  0., ...,  0.,  0.,  0.],\n",
        "       [ 0.,  0.,  0., ...,  3.,  0.,  0.]])"
       ]
      }
     ],
     "prompt_number": 45
    },
    {
     "cell_type": "code",
     "collapsed": false,
     "input": [
      "def train_svm(dataset, labels, c_):\n",
      "    clf = svm.LinearSVC(C=c_)\n",
      "    clf.fit(dataset, labels)\n",
      "    \n",
      "    return clf\n",
      "\n",
      "def predict_svm(clf, test):\n",
      "    return clf.predict(test)\n",
      "\n",
      "def save_csv(filename, labels):\n",
      "    with open(filename, 'wb') as csvfile:\n",
      "        writer = csv.writer(csvfile, delimiter=\",\")\n",
      "#         print labels\n",
      "        writer.writerow(labels)\n",
      "        \n",
      "def kaggle(filename, dataset, labels, test, c):\n",
      "    pred = predict_svm(train_svm(dataset, labels, c), test)\n",
      "    save_csv(filename, pred.tolist())\n",
      "    \n",
      "kaggle(\"digits.csv\", train_data_p3, labels_p3, digits_test, 0.0000001)\n",
      "kaggle(\"spam.csv\", training_data_p4, labels_p4, spam_test, 10)"
     ],
     "language": "python",
     "metadata": {},
     "outputs": [],
     "prompt_number": 46
    },
    {
     "cell_type": "code",
     "collapsed": false,
     "input": [],
     "language": "python",
     "metadata": {},
     "outputs": []
    }
   ],
   "metadata": {}
  }
 ]
}